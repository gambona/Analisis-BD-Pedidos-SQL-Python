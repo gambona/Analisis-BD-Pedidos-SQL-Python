{
 "cells": [
  {
   "cell_type": "markdown",
   "metadata": {},
   "source": [
    "En este notebook vamos a conectar Python a la base de datos *pedidios* guardada en SQL."
   ]
  },
  {
   "cell_type": "code",
   "execution_count": 5,
   "metadata": {},
   "outputs": [],
   "source": [
    "import pandas as pd"
   ]
  },
  {
   "cell_type": "code",
   "execution_count": 79,
   "metadata": {},
   "outputs": [
    {
     "name": "stdout",
     "output_type": "stream",
     "text": [
      "Connected to MySQL database... MySQL Server version on  8.0.34-26\n",
      "MySQL connection is closed\n"
     ]
    }
   ],
   "source": [
    "import mysql.connector # !pip install mysql-connector-python \n",
    "from mysql.connector import Error\n",
    "\n",
    "try: \n",
    "    connection = mysql.connector.connect(host='35.208.82.175', \n",
    "database='dbgsipp7ucsuwy',\n",
    "user='uqsnolewgvge8',\n",
    "password='upgradehub', connection_timeout=180)\n",
    "\n",
    "    if connection.is_connected():\n",
    "        db_Info = connection.get_server_info()\n",
    "        print(\"Connected to MySQL database... MySQL Server version on \", db_Info)\n",
    "\n",
    "        cursor = connection.cursor()\n",
    "        connection.commit()\n",
    "\n",
    "except Error as e:\n",
    "    print(\"Error while connecting to MySQL\", e)\n",
    "finally:\n",
    "    # closing database connection.\n",
    "    if connection.is_connected():\n",
    "        cursor.close()\n",
    "        connection.close()\n",
    "        print(\"MySQL connection is closed\")"
   ]
  },
  {
   "cell_type": "markdown",
   "metadata": {},
   "source": [
    "### Ejemplo query"
   ]
  },
  {
   "cell_type": "code",
   "execution_count": 8,
   "metadata": {},
   "outputs": [
    {
     "data": {
      "text/plain": [
       "[('01', 'Hamburguesa', 2.6),\n",
       " ('02', 'Patatas', 2.0),\n",
       " ('03', 'tomate', 0.5),\n",
       " ('04', 'Queso', 1.0),\n",
       " ('05', 'Lechuga', 0.5),\n",
       " ('06', 'Pollo', 3.6),\n",
       " ('08', 'Bacon', 1.5),\n",
       " ('09', 'Coca cola', 3.0),\n",
       " ('10', 'Nestea', 3.0),\n",
       " ('11', 'Menú de Pollo', 5.0),\n",
       " ('12', 'Menú de Hamburguesa con queso', 6.0),\n",
       " ('13', 'Menú de Pollo con queso', 6.0),\n",
       " ('14', 'Menú de Hamburguesa', 6.0),\n",
       " ('15', 'Helado', 1.0),\n",
       " ('16', 'Tarta', 2.0),\n",
       " ('17', 'Fruta', 1.0),\n",
       " ('18', 'Agua', 2.0),\n",
       " ('19', 'Fanta', 3.0)]"
      ]
     },
     "execution_count": 8,
     "metadata": {},
     "output_type": "execute_result"
    }
   ],
   "source": [
    "connection = mysql.connector.connect(host='35.208.82.175', database='dbgsipp7ucsuwy', user='uqsnolewgvge8', password='upgradehub', connection_timeout=180000)\n",
    "cursor=connection.cursor()\n",
    "query1 = \"\"\" SELECT * FROM PRODUCTO; \"\"\"\n",
    "cursor.execute(query1)\n",
    "cursor.fetchall()"
   ]
  },
  {
   "cell_type": "code",
   "execution_count": 6,
   "metadata": {},
   "outputs": [
    {
     "name": "stderr",
     "output_type": "stream",
     "text": [
      "/var/folders/kz/j4h0c2x541b2lyb_xs14ztzw0000gn/T/ipykernel_44286/2807182519.py:3: UserWarning: pandas only supports SQLAlchemy connectable (engine/connection) or database string URI or sqlite3 DBAPI2 connection. Other DBAPI2 objects are not tested. Please consider using SQLAlchemy.\n",
      "  df1 = pd.read_sql(query1, connection)\n"
     ]
    },
    {
     "data": {
      "text/html": [
       "<div>\n",
       "<style scoped>\n",
       "    .dataframe tbody tr th:only-of-type {\n",
       "        vertical-align: middle;\n",
       "    }\n",
       "\n",
       "    .dataframe tbody tr th {\n",
       "        vertical-align: top;\n",
       "    }\n",
       "\n",
       "    .dataframe thead th {\n",
       "        text-align: right;\n",
       "    }\n",
       "</style>\n",
       "<table border=\"1\" class=\"dataframe\">\n",
       "  <thead>\n",
       "    <tr style=\"text-align: right;\">\n",
       "      <th></th>\n",
       "      <th>Codigo</th>\n",
       "      <th>Nombre</th>\n",
       "      <th>Precio</th>\n",
       "    </tr>\n",
       "  </thead>\n",
       "  <tbody>\n",
       "    <tr>\n",
       "      <th>0</th>\n",
       "      <td>01</td>\n",
       "      <td>Hamburguesa</td>\n",
       "      <td>2.6</td>\n",
       "    </tr>\n",
       "    <tr>\n",
       "      <th>1</th>\n",
       "      <td>02</td>\n",
       "      <td>Patatas</td>\n",
       "      <td>2.0</td>\n",
       "    </tr>\n",
       "    <tr>\n",
       "      <th>2</th>\n",
       "      <td>03</td>\n",
       "      <td>tomate</td>\n",
       "      <td>0.5</td>\n",
       "    </tr>\n",
       "    <tr>\n",
       "      <th>3</th>\n",
       "      <td>04</td>\n",
       "      <td>Queso</td>\n",
       "      <td>1.0</td>\n",
       "    </tr>\n",
       "    <tr>\n",
       "      <th>4</th>\n",
       "      <td>05</td>\n",
       "      <td>Lechuga</td>\n",
       "      <td>0.5</td>\n",
       "    </tr>\n",
       "  </tbody>\n",
       "</table>\n",
       "</div>"
      ],
      "text/plain": [
       "  Codigo       Nombre  Precio\n",
       "0     01  Hamburguesa     2.6\n",
       "1     02      Patatas     2.0\n",
       "2     03       tomate     0.5\n",
       "3     04        Queso     1.0\n",
       "4     05      Lechuga     0.5"
      ]
     },
     "execution_count": 6,
     "metadata": {},
     "output_type": "execute_result"
    }
   ],
   "source": [
    "connection = mysql.connector.connect(host='35.208.82.175', database='dbgsipp7ucsuwy', user='uqsnolewgvge8', password='upgradehub', connection_timeout=180000)\n",
    "cursor=connection.cursor()\n",
    "df1 = pd.read_sql(query1, connection)\n",
    "df1.head()"
   ]
  },
  {
   "cell_type": "code",
   "execution_count": 7,
   "metadata": {},
   "outputs": [
    {
     "data": {
      "text/html": [
       "<div>\n",
       "<style scoped>\n",
       "    .dataframe tbody tr th:only-of-type {\n",
       "        vertical-align: middle;\n",
       "    }\n",
       "\n",
       "    .dataframe tbody tr th {\n",
       "        vertical-align: top;\n",
       "    }\n",
       "\n",
       "    .dataframe thead th {\n",
       "        text-align: right;\n",
       "    }\n",
       "</style>\n",
       "<table border=\"1\" class=\"dataframe\">\n",
       "  <thead>\n",
       "    <tr style=\"text-align: right;\">\n",
       "      <th></th>\n",
       "      <th>Codigo</th>\n",
       "      <th>Nombre</th>\n",
       "      <th>Precio</th>\n",
       "    </tr>\n",
       "  </thead>\n",
       "  <tbody>\n",
       "    <tr>\n",
       "      <th>0</th>\n",
       "      <td>01</td>\n",
       "      <td>Hamburguesa</td>\n",
       "      <td>2.6</td>\n",
       "    </tr>\n",
       "    <tr>\n",
       "      <th>1</th>\n",
       "      <td>02</td>\n",
       "      <td>Patatas</td>\n",
       "      <td>2.0</td>\n",
       "    </tr>\n",
       "    <tr>\n",
       "      <th>2</th>\n",
       "      <td>03</td>\n",
       "      <td>tomate</td>\n",
       "      <td>0.5</td>\n",
       "    </tr>\n",
       "    <tr>\n",
       "      <th>3</th>\n",
       "      <td>04</td>\n",
       "      <td>Queso</td>\n",
       "      <td>1.0</td>\n",
       "    </tr>\n",
       "    <tr>\n",
       "      <th>4</th>\n",
       "      <td>05</td>\n",
       "      <td>Lechuga</td>\n",
       "      <td>0.5</td>\n",
       "    </tr>\n",
       "  </tbody>\n",
       "</table>\n",
       "</div>"
      ],
      "text/plain": [
       "  Codigo       Nombre  Precio\n",
       "0     01  Hamburguesa     2.6\n",
       "1     02      Patatas     2.0\n",
       "2     03       tomate     0.5\n",
       "3     04        Queso     1.0\n",
       "4     05      Lechuga     0.5"
      ]
     },
     "execution_count": 7,
     "metadata": {},
     "output_type": "execute_result"
    }
   ],
   "source": [
    "df1.to_csv('producto.csv', index=False)\n",
    "df1.head()"
   ]
  },
  {
   "cell_type": "markdown",
   "metadata": {},
   "source": [
    "### Esquema de info"
   ]
  },
  {
   "cell_type": "code",
   "execution_count": 8,
   "metadata": {},
   "outputs": [],
   "source": [
    "pd.set_option('display.max_columns', None, 'display.max_rows', None)"
   ]
  },
  {
   "cell_type": "code",
   "execution_count": 9,
   "metadata": {},
   "outputs": [
    {
     "name": "stderr",
     "output_type": "stream",
     "text": [
      "/var/folders/kz/j4h0c2x541b2lyb_xs14ztzw0000gn/T/ipykernel_44286/1367092582.py:3: UserWarning: pandas only supports SQLAlchemy connectable (engine/connection) or database string URI or sqlite3 DBAPI2 connection. Other DBAPI2 objects are not tested. Please consider using SQLAlchemy.\n",
      "  esquema = pd.read_sql(\"SELECT * FROM INFORMATION_SCHEMA.Tables\", connection)\n"
     ]
    },
    {
     "data": {
      "text/html": [
       "<div>\n",
       "<style scoped>\n",
       "    .dataframe tbody tr th:only-of-type {\n",
       "        vertical-align: middle;\n",
       "    }\n",
       "\n",
       "    .dataframe tbody tr th {\n",
       "        vertical-align: top;\n",
       "    }\n",
       "\n",
       "    .dataframe thead th {\n",
       "        text-align: right;\n",
       "    }\n",
       "</style>\n",
       "<table border=\"1\" class=\"dataframe\">\n",
       "  <thead>\n",
       "    <tr style=\"text-align: right;\">\n",
       "      <th></th>\n",
       "      <th>TABLE_CATALOG</th>\n",
       "      <th>TABLE_SCHEMA</th>\n",
       "      <th>TABLE_NAME</th>\n",
       "      <th>TABLE_TYPE</th>\n",
       "      <th>ENGINE</th>\n",
       "      <th>VERSION</th>\n",
       "      <th>ROW_FORMAT</th>\n",
       "      <th>TABLE_ROWS</th>\n",
       "      <th>AVG_ROW_LENGTH</th>\n",
       "      <th>DATA_LENGTH</th>\n",
       "      <th>MAX_DATA_LENGTH</th>\n",
       "      <th>INDEX_LENGTH</th>\n",
       "      <th>DATA_FREE</th>\n",
       "      <th>AUTO_INCREMENT</th>\n",
       "      <th>CREATE_TIME</th>\n",
       "      <th>UPDATE_TIME</th>\n",
       "      <th>CHECK_TIME</th>\n",
       "      <th>TABLE_COLLATION</th>\n",
       "      <th>CHECKSUM</th>\n",
       "      <th>CREATE_OPTIONS</th>\n",
       "      <th>TABLE_COMMENT</th>\n",
       "    </tr>\n",
       "  </thead>\n",
       "  <tbody>\n",
       "    <tr>\n",
       "      <th>0</th>\n",
       "      <td>def</td>\n",
       "      <td>information_schema</td>\n",
       "      <td>ADMINISTRABLE_ROLE_AUTHORIZATIONS</td>\n",
       "      <td>SYSTEM VIEW</td>\n",
       "      <td>None</td>\n",
       "      <td>10</td>\n",
       "      <td>None</td>\n",
       "      <td>0</td>\n",
       "      <td>0</td>\n",
       "      <td>0</td>\n",
       "      <td>0</td>\n",
       "      <td>0</td>\n",
       "      <td>0</td>\n",
       "      <td>NaN</td>\n",
       "      <td>2024-05-08 07:09:36</td>\n",
       "      <td>None</td>\n",
       "      <td>None</td>\n",
       "      <td>None</td>\n",
       "      <td>None</td>\n",
       "      <td></td>\n",
       "      <td></td>\n",
       "    </tr>\n",
       "    <tr>\n",
       "      <th>1</th>\n",
       "      <td>def</td>\n",
       "      <td>information_schema</td>\n",
       "      <td>APPLICABLE_ROLES</td>\n",
       "      <td>SYSTEM VIEW</td>\n",
       "      <td>None</td>\n",
       "      <td>10</td>\n",
       "      <td>None</td>\n",
       "      <td>0</td>\n",
       "      <td>0</td>\n",
       "      <td>0</td>\n",
       "      <td>0</td>\n",
       "      <td>0</td>\n",
       "      <td>0</td>\n",
       "      <td>NaN</td>\n",
       "      <td>2024-05-08 07:09:36</td>\n",
       "      <td>None</td>\n",
       "      <td>None</td>\n",
       "      <td>None</td>\n",
       "      <td>None</td>\n",
       "      <td></td>\n",
       "      <td></td>\n",
       "    </tr>\n",
       "    <tr>\n",
       "      <th>2</th>\n",
       "      <td>def</td>\n",
       "      <td>information_schema</td>\n",
       "      <td>CHARACTER_SETS</td>\n",
       "      <td>SYSTEM VIEW</td>\n",
       "      <td>None</td>\n",
       "      <td>10</td>\n",
       "      <td>None</td>\n",
       "      <td>0</td>\n",
       "      <td>0</td>\n",
       "      <td>0</td>\n",
       "      <td>0</td>\n",
       "      <td>0</td>\n",
       "      <td>0</td>\n",
       "      <td>NaN</td>\n",
       "      <td>2024-05-08 06:54:31</td>\n",
       "      <td>None</td>\n",
       "      <td>None</td>\n",
       "      <td>None</td>\n",
       "      <td>None</td>\n",
       "      <td></td>\n",
       "      <td></td>\n",
       "    </tr>\n",
       "    <tr>\n",
       "      <th>3</th>\n",
       "      <td>def</td>\n",
       "      <td>information_schema</td>\n",
       "      <td>CHECK_CONSTRAINTS</td>\n",
       "      <td>SYSTEM VIEW</td>\n",
       "      <td>None</td>\n",
       "      <td>10</td>\n",
       "      <td>None</td>\n",
       "      <td>0</td>\n",
       "      <td>0</td>\n",
       "      <td>0</td>\n",
       "      <td>0</td>\n",
       "      <td>0</td>\n",
       "      <td>0</td>\n",
       "      <td>NaN</td>\n",
       "      <td>2024-05-08 06:54:31</td>\n",
       "      <td>None</td>\n",
       "      <td>None</td>\n",
       "      <td>None</td>\n",
       "      <td>None</td>\n",
       "      <td></td>\n",
       "      <td></td>\n",
       "    </tr>\n",
       "    <tr>\n",
       "      <th>4</th>\n",
       "      <td>def</td>\n",
       "      <td>information_schema</td>\n",
       "      <td>CLIENT_STATISTICS</td>\n",
       "      <td>SYSTEM VIEW</td>\n",
       "      <td>None</td>\n",
       "      <td>10</td>\n",
       "      <td>None</td>\n",
       "      <td>0</td>\n",
       "      <td>0</td>\n",
       "      <td>0</td>\n",
       "      <td>0</td>\n",
       "      <td>0</td>\n",
       "      <td>0</td>\n",
       "      <td>NaN</td>\n",
       "      <td>2024-05-08 06:54:31</td>\n",
       "      <td>None</td>\n",
       "      <td>None</td>\n",
       "      <td>None</td>\n",
       "      <td>None</td>\n",
       "      <td></td>\n",
       "      <td></td>\n",
       "    </tr>\n",
       "  </tbody>\n",
       "</table>\n",
       "</div>"
      ],
      "text/plain": [
       "  TABLE_CATALOG        TABLE_SCHEMA                         TABLE_NAME  \\\n",
       "0           def  information_schema  ADMINISTRABLE_ROLE_AUTHORIZATIONS   \n",
       "1           def  information_schema                   APPLICABLE_ROLES   \n",
       "2           def  information_schema                     CHARACTER_SETS   \n",
       "3           def  information_schema                  CHECK_CONSTRAINTS   \n",
       "4           def  information_schema                  CLIENT_STATISTICS   \n",
       "\n",
       "    TABLE_TYPE ENGINE  VERSION ROW_FORMAT  TABLE_ROWS  AVG_ROW_LENGTH  \\\n",
       "0  SYSTEM VIEW   None       10       None           0               0   \n",
       "1  SYSTEM VIEW   None       10       None           0               0   \n",
       "2  SYSTEM VIEW   None       10       None           0               0   \n",
       "3  SYSTEM VIEW   None       10       None           0               0   \n",
       "4  SYSTEM VIEW   None       10       None           0               0   \n",
       "\n",
       "   DATA_LENGTH  MAX_DATA_LENGTH  INDEX_LENGTH  DATA_FREE  AUTO_INCREMENT  \\\n",
       "0            0                0             0          0             NaN   \n",
       "1            0                0             0          0             NaN   \n",
       "2            0                0             0          0             NaN   \n",
       "3            0                0             0          0             NaN   \n",
       "4            0                0             0          0             NaN   \n",
       "\n",
       "          CREATE_TIME UPDATE_TIME CHECK_TIME TABLE_COLLATION CHECKSUM  \\\n",
       "0 2024-05-08 07:09:36        None       None            None     None   \n",
       "1 2024-05-08 07:09:36        None       None            None     None   \n",
       "2 2024-05-08 06:54:31        None       None            None     None   \n",
       "3 2024-05-08 06:54:31        None       None            None     None   \n",
       "4 2024-05-08 06:54:31        None       None            None     None   \n",
       "\n",
       "  CREATE_OPTIONS TABLE_COMMENT  \n",
       "0                               \n",
       "1                               \n",
       "2                               \n",
       "3                               \n",
       "4                               "
      ]
     },
     "execution_count": 9,
     "metadata": {},
     "output_type": "execute_result"
    }
   ],
   "source": [
    "connection = mysql.connector.connect(host='35.208.82.175', database='dbgsipp7ucsuwy', user='uqsnolewgvge8', password='upgradehub', connection_timeout=180000)\n",
    "\n",
    "esquema = pd.read_sql(\"SELECT * FROM INFORMATION_SCHEMA.Tables\", connection)\n",
    "esquema.head()"
   ]
  },
  {
   "cell_type": "markdown",
   "metadata": {},
   "source": [
    "Obtener el número de pedido, dni del repartidor y hora de reparto de aquellos pedidos que se toman nota después de las siete de la tarde"
   ]
  },
  {
   "cell_type": "code",
   "execution_count": 10,
   "metadata": {},
   "outputs": [
    {
     "data": {
      "text/plain": [
       "[('0005', '14188151T', datetime.timedelta(seconds=71100)),\n",
       " ('0006', '04477744T', datetime.timedelta(seconds=78300)),\n",
       " ('0007', '14188151T', datetime.timedelta(seconds=84900))]"
      ]
     },
     "execution_count": 10,
     "metadata": {},
     "output_type": "execute_result"
    }
   ],
   "source": [
    "connection = mysql.connector.connect(host='35.208.82.175', database='dbgsipp7ucsuwy', user='uqsnolewgvge8', password='upgradehub', connection_timeout=180000)\n",
    "cursor=connection.cursor()\n",
    "query2 = \"\"\" SELECT Numero, DNI_R, Hora_rep FROM PEDIDO WHERE Hora_tm >'19:00' and Hora_rep is not null; \"\"\"\n",
    "cursor.execute(query2)\n",
    "cursor.fetchall()"
   ]
  },
  {
   "cell_type": "code",
   "execution_count": 11,
   "metadata": {},
   "outputs": [
    {
     "name": "stderr",
     "output_type": "stream",
     "text": [
      "/var/folders/kz/j4h0c2x541b2lyb_xs14ztzw0000gn/T/ipykernel_44286/908935552.py:1: UserWarning: pandas only supports SQLAlchemy connectable (engine/connection) or database string URI or sqlite3 DBAPI2 connection. Other DBAPI2 objects are not tested. Please consider using SQLAlchemy.\n",
      "  df2 = pd.read_sql(query2, connection)\n"
     ]
    },
    {
     "data": {
      "text/html": [
       "<div>\n",
       "<style scoped>\n",
       "    .dataframe tbody tr th:only-of-type {\n",
       "        vertical-align: middle;\n",
       "    }\n",
       "\n",
       "    .dataframe tbody tr th {\n",
       "        vertical-align: top;\n",
       "    }\n",
       "\n",
       "    .dataframe thead th {\n",
       "        text-align: right;\n",
       "    }\n",
       "</style>\n",
       "<table border=\"1\" class=\"dataframe\">\n",
       "  <thead>\n",
       "    <tr style=\"text-align: right;\">\n",
       "      <th></th>\n",
       "      <th>Numero</th>\n",
       "      <th>DNI_R</th>\n",
       "      <th>Hora_rep</th>\n",
       "    </tr>\n",
       "  </thead>\n",
       "  <tbody>\n",
       "    <tr>\n",
       "      <th>0</th>\n",
       "      <td>0005</td>\n",
       "      <td>14188151T</td>\n",
       "      <td>0 days 19:45:00</td>\n",
       "    </tr>\n",
       "    <tr>\n",
       "      <th>1</th>\n",
       "      <td>0006</td>\n",
       "      <td>04477744T</td>\n",
       "      <td>0 days 21:45:00</td>\n",
       "    </tr>\n",
       "    <tr>\n",
       "      <th>2</th>\n",
       "      <td>0007</td>\n",
       "      <td>14188151T</td>\n",
       "      <td>0 days 23:35:00</td>\n",
       "    </tr>\n",
       "  </tbody>\n",
       "</table>\n",
       "</div>"
      ],
      "text/plain": [
       "  Numero      DNI_R        Hora_rep\n",
       "0   0005  14188151T 0 days 19:45:00\n",
       "1   0006  04477744T 0 days 21:45:00\n",
       "2   0007  14188151T 0 days 23:35:00"
      ]
     },
     "execution_count": 11,
     "metadata": {},
     "output_type": "execute_result"
    }
   ],
   "source": [
    "df2 = pd.read_sql(query2, connection)\n",
    "df2"
   ]
  },
  {
   "cell_type": "markdown",
   "metadata": {},
   "source": [
    "<div style=\"text-align: center;\">\n",
    "<head>\n",
    "\n",
    "# Ejercicios\n",
    "</head>\n",
    "</div>"
   ]
  },
  {
   "cell_type": "markdown",
   "metadata": {},
   "source": [
    "\n",
    "## 1.Listar todos los productos.\n",
    "\n",
    "SELECT * FROM producto;\n"
   ]
  },
  {
   "cell_type": "code",
   "execution_count": 53,
   "metadata": {},
   "outputs": [
    {
     "name": "stderr",
     "output_type": "stream",
     "text": [
      "/var/folders/kz/j4h0c2x541b2lyb_xs14ztzw0000gn/T/ipykernel_9118/3573839557.py:6: UserWarning: pandas only supports SQLAlchemy connectable (engine/connection) or database string URI or sqlite3 DBAPI2 connection. Other DBAPI2 objects are not tested. Please consider using SQLAlchemy.\n",
      "  df1 = pd.read_sql(query1, connection)\n"
     ]
    },
    {
     "data": {
      "text/html": [
       "<div>\n",
       "<style scoped>\n",
       "    .dataframe tbody tr th:only-of-type {\n",
       "        vertical-align: middle;\n",
       "    }\n",
       "\n",
       "    .dataframe tbody tr th {\n",
       "        vertical-align: top;\n",
       "    }\n",
       "\n",
       "    .dataframe thead th {\n",
       "        text-align: right;\n",
       "    }\n",
       "</style>\n",
       "<table border=\"1\" class=\"dataframe\">\n",
       "  <thead>\n",
       "    <tr style=\"text-align: right;\">\n",
       "      <th></th>\n",
       "      <th>Codigo</th>\n",
       "      <th>Nombre</th>\n",
       "      <th>Precio</th>\n",
       "    </tr>\n",
       "  </thead>\n",
       "  <tbody>\n",
       "    <tr>\n",
       "      <th>0</th>\n",
       "      <td>01</td>\n",
       "      <td>Hamburguesa</td>\n",
       "      <td>2.6</td>\n",
       "    </tr>\n",
       "    <tr>\n",
       "      <th>1</th>\n",
       "      <td>02</td>\n",
       "      <td>Patatas</td>\n",
       "      <td>2.0</td>\n",
       "    </tr>\n",
       "    <tr>\n",
       "      <th>2</th>\n",
       "      <td>03</td>\n",
       "      <td>tomate</td>\n",
       "      <td>0.5</td>\n",
       "    </tr>\n",
       "    <tr>\n",
       "      <th>3</th>\n",
       "      <td>04</td>\n",
       "      <td>Queso</td>\n",
       "      <td>1.0</td>\n",
       "    </tr>\n",
       "    <tr>\n",
       "      <th>4</th>\n",
       "      <td>05</td>\n",
       "      <td>Lechuga</td>\n",
       "      <td>0.5</td>\n",
       "    </tr>\n",
       "  </tbody>\n",
       "</table>\n",
       "</div>"
      ],
      "text/plain": [
       "  Codigo       Nombre  Precio\n",
       "0     01  Hamburguesa     2.6\n",
       "1     02      Patatas     2.0\n",
       "2     03       tomate     0.5\n",
       "3     04        Queso     1.0\n",
       "4     05      Lechuga     0.5"
      ]
     },
     "execution_count": 53,
     "metadata": {},
     "output_type": "execute_result"
    }
   ],
   "source": [
    "connection = mysql.connector.connect(host='35.208.82.175', database='dbgsipp7ucsuwy', user='uqsnolewgvge8', password='upgradehub', connection_timeout=180000)\n",
    "cursor=connection.cursor()\n",
    "query1 = \"\"\" SELECT * FROM PRODUCTO; \"\"\"\n",
    "cursor.execute(query1)\n",
    "cursor.fetchall()\n",
    "df1 = pd.read_sql(query1, connection)\n",
    "df1.head()"
   ]
  },
  {
   "cell_type": "markdown",
   "metadata": {},
   "source": [
    "## 2. Obtener los nombres de todos los empleados.\n",
    "SELECT nombre FROM empleado;"
   ]
  },
  {
   "cell_type": "code",
   "execution_count": 54,
   "metadata": {},
   "outputs": [
    {
     "name": "stderr",
     "output_type": "stream",
     "text": [
      "/var/folders/kz/j4h0c2x541b2lyb_xs14ztzw0000gn/T/ipykernel_9118/1219842886.py:6: UserWarning: pandas only supports SQLAlchemy connectable (engine/connection) or database string URI or sqlite3 DBAPI2 connection. Other DBAPI2 objects are not tested. Please consider using SQLAlchemy.\n",
      "  df2 = pd.read_sql(query2, connection)\n"
     ]
    },
    {
     "data": {
      "text/html": [
       "<div>\n",
       "<style scoped>\n",
       "    .dataframe tbody tr th:only-of-type {\n",
       "        vertical-align: middle;\n",
       "    }\n",
       "\n",
       "    .dataframe tbody tr th {\n",
       "        vertical-align: top;\n",
       "    }\n",
       "\n",
       "    .dataframe thead th {\n",
       "        text-align: right;\n",
       "    }\n",
       "</style>\n",
       "<table border=\"1\" class=\"dataframe\">\n",
       "  <thead>\n",
       "    <tr style=\"text-align: right;\">\n",
       "      <th></th>\n",
       "      <th>DNI</th>\n",
       "      <th>Nombre</th>\n",
       "      <th>Nss</th>\n",
       "      <th>Turno</th>\n",
       "      <th>Salario</th>\n",
       "    </tr>\n",
       "  </thead>\n",
       "  <tbody>\n",
       "    <tr>\n",
       "      <th>0</th>\n",
       "      <td>03232323P</td>\n",
       "      <td>María Luisa Galdón Ter</td>\n",
       "      <td>43534534567</td>\n",
       "      <td>noche</td>\n",
       "      <td>1200.0</td>\n",
       "    </tr>\n",
       "    <tr>\n",
       "      <th>1</th>\n",
       "      <td>04444444T</td>\n",
       "      <td>Úrsula Delta Camacho</td>\n",
       "      <td>11177788899</td>\n",
       "      <td>mañana</td>\n",
       "      <td>900.0</td>\n",
       "    </tr>\n",
       "    <tr>\n",
       "      <th>2</th>\n",
       "      <td>11111111Q</td>\n",
       "      <td>Luis Ramírez Pardo</td>\n",
       "      <td>23445556666</td>\n",
       "      <td>mañana</td>\n",
       "      <td>900.0</td>\n",
       "    </tr>\n",
       "    <tr>\n",
       "      <th>3</th>\n",
       "      <td>14111155T</td>\n",
       "      <td>Sergio Lérida Campos</td>\n",
       "      <td>55577700089</td>\n",
       "      <td>tarde</td>\n",
       "      <td>1000.0</td>\n",
       "    </tr>\n",
       "    <tr>\n",
       "      <th>4</th>\n",
       "      <td>14567555L</td>\n",
       "      <td>Piedad Colmenero Zapillo</td>\n",
       "      <td>23456734534</td>\n",
       "      <td>noche</td>\n",
       "      <td>1200.0</td>\n",
       "    </tr>\n",
       "  </tbody>\n",
       "</table>\n",
       "</div>"
      ],
      "text/plain": [
       "         DNI                    Nombre          Nss   Turno  Salario\n",
       "0  03232323P    María Luisa Galdón Ter  43534534567   noche   1200.0\n",
       "1  04444444T      Úrsula Delta Camacho  11177788899  mañana    900.0\n",
       "2  11111111Q        Luis Ramírez Pardo  23445556666  mañana    900.0\n",
       "3  14111155T      Sergio Lérida Campos  55577700089   tarde   1000.0\n",
       "4  14567555L  Piedad Colmenero Zapillo  23456734534   noche   1200.0"
      ]
     },
     "execution_count": 54,
     "metadata": {},
     "output_type": "execute_result"
    }
   ],
   "source": [
    "connection = mysql.connector.connect(host='35.208.82.175', database='dbgsipp7ucsuwy', user='uqsnolewgvge8', password='upgradehub', connection_timeout=180000)\n",
    "cursor=connection.cursor()\n",
    "query2 = \"\"\" SELECT * FROM EMPLEADO; \"\"\"\n",
    "cursor.execute(query2)\n",
    "cursor.fetchall()\n",
    "df2 = pd.read_sql(query2, connection)\n",
    "df2.head()"
   ]
  },
  {
   "cell_type": "markdown",
   "metadata": {},
   "source": [
    "## 3. Contar el número de pedidos realizados.\n",
    "SELECT COUNT(hora_rep) as 'numero Pedido' FROM pedido;"
   ]
  },
  {
   "cell_type": "code",
   "execution_count": 67,
   "metadata": {},
   "outputs": [
    {
     "name": "stderr",
     "output_type": "stream",
     "text": [
      "/var/folders/kz/j4h0c2x541b2lyb_xs14ztzw0000gn/T/ipykernel_9118/609381701.py:6: UserWarning: pandas only supports SQLAlchemy connectable (engine/connection) or database string URI or sqlite3 DBAPI2 connection. Other DBAPI2 objects are not tested. Please consider using SQLAlchemy.\n",
      "  df3 = pd.read_sql(query3, connection)\n"
     ]
    },
    {
     "data": {
      "text/html": [
       "<div>\n",
       "<style scoped>\n",
       "    .dataframe tbody tr th:only-of-type {\n",
       "        vertical-align: middle;\n",
       "    }\n",
       "\n",
       "    .dataframe tbody tr th {\n",
       "        vertical-align: top;\n",
       "    }\n",
       "\n",
       "    .dataframe thead th {\n",
       "        text-align: right;\n",
       "    }\n",
       "</style>\n",
       "<table border=\"1\" class=\"dataframe\">\n",
       "  <thead>\n",
       "    <tr style=\"text-align: right;\">\n",
       "      <th></th>\n",
       "      <th>Número pedidos realizados</th>\n",
       "    </tr>\n",
       "  </thead>\n",
       "  <tbody>\n",
       "    <tr>\n",
       "      <th>0</th>\n",
       "      <td>9</td>\n",
       "    </tr>\n",
       "  </tbody>\n",
       "</table>\n",
       "</div>"
      ],
      "text/plain": [
       "   Número pedidos realizados\n",
       "0                          9"
      ]
     },
     "execution_count": 67,
     "metadata": {},
     "output_type": "execute_result"
    }
   ],
   "source": [
    "connection = mysql.connector.connect(host='35.208.82.175', database='dbgsipp7ucsuwy', user='uqsnolewgvge8', password='upgradehub', connection_timeout=180000)\n",
    "cursor=connection.cursor()\n",
    "query3 = \"\"\"SELECT COUNT(hora_rep) as 'Número pedidos realizados' FROM PEDIDO;\"\"\"\n",
    "cursor.execute(query3)\n",
    "cursor.fetchall()\n",
    "df3 = pd.read_sql(query3, connection)\n",
    "df3.head()"
   ]
  },
  {
   "cell_type": "markdown",
   "metadata": {},
   "source": [
    "## 4. Listar los repartidores que trabajan en el turno de tarde.\n",
    "SELECT nombre from repartidor where turno = 'tarde';"
   ]
  },
  {
   "cell_type": "code",
   "execution_count": 102,
   "metadata": {},
   "outputs": [
    {
     "data": {
      "text/plain": [
       "[('Carlos Sánchez Ruíz',), ('Carmen Capel Pío',)]"
      ]
     },
     "execution_count": 102,
     "metadata": {},
     "output_type": "execute_result"
    }
   ],
   "source": [
    "connection = mysql.connector.connect(host='35.208.82.175', database='dbgsipp7ucsuwy', user='uqsnolewgvge8', password='upgradehub', connection_timeout=180000)\n",
    "cursor=connection.cursor()\n",
    "query4 = \"\"\" SELECT nombre FROM REPARTIDOR WHERE turno = 'TARDE'; \"\"\"\n",
    "cursor.execute(query4)\n",
    "cursor.fetchall()"
   ]
  },
  {
   "cell_type": "markdown",
   "metadata": {},
   "source": [
    "##  5. Encontrar el precio más alto de los productos.\n",
    "SELECT max(precio) FROM producto;"
   ]
  },
  {
   "cell_type": "code",
   "execution_count": 80,
   "metadata": {},
   "outputs": [
    {
     "data": {
      "text/plain": [
       "[(6.0,)]"
      ]
     },
     "execution_count": 80,
     "metadata": {},
     "output_type": "execute_result"
    }
   ],
   "source": [
    "connection = mysql.connector.connect(host='35.208.82.175', database='dbgsipp7ucsuwy', user='uqsnolewgvge8', password='upgradehub', connection_timeout=180000)\n",
    "cursor=connection.cursor()\n",
    "query5 = \"\"\" SELECT max(precio) FROM PRODUCTO; \"\"\"\n",
    "cursor.execute(query5)\n",
    "cursor.fetchall()"
   ]
  },
  {
   "cell_type": "markdown",
   "metadata": {},
   "source": [
    "## 6. Mostrar todos los pedidos con un importe mayor a 100.\n",
    "SELECT max(importe) FROM pedido;"
   ]
  },
  {
   "cell_type": "code",
   "execution_count": 90,
   "metadata": {},
   "outputs": [
    {
     "data": {
      "text/plain": [
       "[(45.0,)]"
      ]
     },
     "execution_count": 90,
     "metadata": {},
     "output_type": "execute_result"
    }
   ],
   "source": [
    "connection = mysql.connector.connect(host='35.208.82.175', database='dbgsipp7ucsuwy', user='uqsnolewgvge8', password='upgradehub', connection_timeout=180000)\n",
    "cursor=connection.cursor()\n",
    "query6 = \"\"\" SELECT max(IMPORTE) FROM PEDIDO; \"\"\"\n",
    "cursor.execute(query6)\n",
    "cursor.fetchall()"
   ]
  },
  {
   "cell_type": "markdown",
   "metadata": {},
   "source": [
    "## 7. Obtener el salario promedio de los empleados.\n",
    "SELECT AVG(Salario) AS SalarioPromedio FROM empleado;"
   ]
  },
  {
   "cell_type": "code",
   "execution_count": 92,
   "metadata": {},
   "outputs": [
    {
     "data": {
      "text/plain": [
       "[(1027.272727,)]"
      ]
     },
     "execution_count": 92,
     "metadata": {},
     "output_type": "execute_result"
    }
   ],
   "source": [
    "connection = mysql.connector.connect(host='35.208.82.175', database='dbgsipp7ucsuwy', user='uqsnolewgvge8', password='upgradehub', connection_timeout=180000)\n",
    "cursor=connection.cursor()\n",
    "query7 = \"\"\" SELECT AVG(Salario) AS SalarioPromedio FROM EMPLEADO \"\"\"\n",
    "cursor.execute(query7)\n",
    "cursor.fetchall()"
   ]
  },
  {
   "cell_type": "markdown",
   "metadata": {},
   "source": [
    "## 8. Listar los productos que tienen un nombre único (sin duplicados).\n",
    "SELECT DISTINCT nombre FROM producto;"
   ]
  },
  {
   "cell_type": "code",
   "execution_count": 69,
   "metadata": {},
   "outputs": [
    {
     "name": "stderr",
     "output_type": "stream",
     "text": [
      "/var/folders/kz/j4h0c2x541b2lyb_xs14ztzw0000gn/T/ipykernel_9118/3398833789.py:6: UserWarning: pandas only supports SQLAlchemy connectable (engine/connection) or database string URI or sqlite3 DBAPI2 connection. Other DBAPI2 objects are not tested. Please consider using SQLAlchemy.\n",
      "  df7 = pd.read_sql(query7, connection)\n"
     ]
    },
    {
     "data": {
      "text/html": [
       "<div>\n",
       "<style scoped>\n",
       "    .dataframe tbody tr th:only-of-type {\n",
       "        vertical-align: middle;\n",
       "    }\n",
       "\n",
       "    .dataframe tbody tr th {\n",
       "        vertical-align: top;\n",
       "    }\n",
       "\n",
       "    .dataframe thead th {\n",
       "        text-align: right;\n",
       "    }\n",
       "</style>\n",
       "<table border=\"1\" class=\"dataframe\">\n",
       "  <thead>\n",
       "    <tr style=\"text-align: right;\">\n",
       "      <th></th>\n",
       "      <th>nombre</th>\n",
       "    </tr>\n",
       "  </thead>\n",
       "  <tbody>\n",
       "    <tr>\n",
       "      <th>0</th>\n",
       "      <td>Agua</td>\n",
       "    </tr>\n",
       "    <tr>\n",
       "      <th>1</th>\n",
       "      <td>Bacon</td>\n",
       "    </tr>\n",
       "    <tr>\n",
       "      <th>2</th>\n",
       "      <td>Coca cola</td>\n",
       "    </tr>\n",
       "    <tr>\n",
       "      <th>3</th>\n",
       "      <td>Fanta</td>\n",
       "    </tr>\n",
       "    <tr>\n",
       "      <th>4</th>\n",
       "      <td>Fruta</td>\n",
       "    </tr>\n",
       "  </tbody>\n",
       "</table>\n",
       "</div>"
      ],
      "text/plain": [
       "      nombre\n",
       "0       Agua\n",
       "1      Bacon\n",
       "2  Coca cola\n",
       "3      Fanta\n",
       "4      Fruta"
      ]
     },
     "execution_count": 69,
     "metadata": {},
     "output_type": "execute_result"
    }
   ],
   "source": [
    "connection = mysql.connector.connect(host='35.208.82.175', database='dbgsipp7ucsuwy', user='uqsnolewgvge8', password='upgradehub', connection_timeout=180000)\n",
    "cursor=connection.cursor()\n",
    "query7 = \"\"\" SELECT DISTINCT nombre FROM PRODUCTO; \"\"\"\n",
    "cursor.execute(query7)\n",
    "cursor.fetchall()\n",
    "df7 = pd.read_sql(query7, connection)\n",
    "df7.head()"
   ]
  },
  {
   "cell_type": "markdown",
   "metadata": {},
   "source": [
    "## 9. Mostrar el número y la fecha de todos los pedidos realizados en el último mes.\n",
    "SELECT Numero, Fecha FROM PEDIDO WHERE MONTH(CURRENT_DATE - INTERVAL 1 MONTH);"
   ]
  },
  {
   "cell_type": "code",
   "execution_count": 70,
   "metadata": {},
   "outputs": [
    {
     "name": "stderr",
     "output_type": "stream",
     "text": [
      "/var/folders/kz/j4h0c2x541b2lyb_xs14ztzw0000gn/T/ipykernel_9118/645175201.py:6: UserWarning: pandas only supports SQLAlchemy connectable (engine/connection) or database string URI or sqlite3 DBAPI2 connection. Other DBAPI2 objects are not tested. Please consider using SQLAlchemy.\n",
      "  df9 = pd.read_sql(query9, connection)\n"
     ]
    },
    {
     "data": {
      "text/html": [
       "<div>\n",
       "<style scoped>\n",
       "    .dataframe tbody tr th:only-of-type {\n",
       "        vertical-align: middle;\n",
       "    }\n",
       "\n",
       "    .dataframe tbody tr th {\n",
       "        vertical-align: top;\n",
       "    }\n",
       "\n",
       "    .dataframe thead th {\n",
       "        text-align: right;\n",
       "    }\n",
       "</style>\n",
       "<table border=\"1\" class=\"dataframe\">\n",
       "  <thead>\n",
       "    <tr style=\"text-align: right;\">\n",
       "      <th></th>\n",
       "      <th>Numero</th>\n",
       "      <th>Fecha</th>\n",
       "    </tr>\n",
       "  </thead>\n",
       "  <tbody>\n",
       "    <tr>\n",
       "      <th>0</th>\n",
       "      <td>0001</td>\n",
       "      <td>2020-10-15</td>\n",
       "    </tr>\n",
       "    <tr>\n",
       "      <th>1</th>\n",
       "      <td>0002</td>\n",
       "      <td>2020-11-11</td>\n",
       "    </tr>\n",
       "    <tr>\n",
       "      <th>2</th>\n",
       "      <td>0003</td>\n",
       "      <td>2020-10-15</td>\n",
       "    </tr>\n",
       "    <tr>\n",
       "      <th>3</th>\n",
       "      <td>0004</td>\n",
       "      <td>2020-11-10</td>\n",
       "    </tr>\n",
       "    <tr>\n",
       "      <th>4</th>\n",
       "      <td>0005</td>\n",
       "      <td>2020-09-05</td>\n",
       "    </tr>\n",
       "  </tbody>\n",
       "</table>\n",
       "</div>"
      ],
      "text/plain": [
       "  Numero       Fecha\n",
       "0   0001  2020-10-15\n",
       "1   0002  2020-11-11\n",
       "2   0003  2020-10-15\n",
       "3   0004  2020-11-10\n",
       "4   0005  2020-09-05"
      ]
     },
     "execution_count": 70,
     "metadata": {},
     "output_type": "execute_result"
    }
   ],
   "source": [
    "connection = mysql.connector.connect(host='35.208.82.175', database='dbgsipp7ucsuwy', user='uqsnolewgvge8', password='upgradehub', connection_timeout=180000)\n",
    "cursor=connection.cursor()\n",
    "query9 = \"\"\" SELECT Numero, Fecha FROM PEDIDO WHERE MONTH(CURRENT_DATE - INTERVAL 1 MONTH); \"\"\"\n",
    "cursor.execute(query9)\n",
    "cursor.fetchall()\n",
    "df9 = pd.read_sql(query9, connection)\n",
    "df9.head()"
   ]
  },
  {
   "cell_type": "markdown",
   "metadata": {},
   "source": [
    "## 10. Encontrar el empleado con el salario más bajo.\n",
    "SELECT min(Salario) FROM EMPLEADO;"
   ]
  },
  {
   "cell_type": "code",
   "execution_count": 68,
   "metadata": {},
   "outputs": [
    {
     "data": {
      "text/plain": [
       "[(900.0,)]"
      ]
     },
     "execution_count": 68,
     "metadata": {},
     "output_type": "execute_result"
    }
   ],
   "source": [
    "connection = mysql.connector.connect(host='35.208.82.175', database='dbgsipp7ucsuwy', user='uqsnolewgvge8', password='upgradehub', connection_timeout=180000)\n",
    "cursor=connection.cursor()\n",
    "query10 = \"\"\" SELECT min(Salario) FROM EMPLEADO; \"\"\"\n",
    "cursor.execute(query10)\n",
    "cursor.fetchall()"
   ]
  },
  {
   "cell_type": "markdown",
   "metadata": {},
   "source": [
    "## 11. Listar los productos y sus componentes.\n",
    "SELECT p.Nombre AS Nombre_Producto, p.Codigo AS Codigo_Producto,\n",
    "c.Nombre AS Nombre_Componente, c.Codigo AS Codigo_Componente\n",
    "FROM PRODUCTO p\n",
    "JOIN esta_compuesto ec ON p.Codigo = ec.Codigo_P\n",
    "JOIN PRODUCTO c ON ec.Codigo_P_compuesto = c.Codigo"
   ]
  },
  {
   "cell_type": "code",
   "execution_count": 74,
   "metadata": {},
   "outputs": [
    {
     "ename": "SyntaxError",
     "evalue": "invalid syntax (395500340.py, line 1)",
     "output_type": "error",
     "traceback": [
      "\u001b[0;36m  Cell \u001b[0;32mIn[74], line 1\u001b[0;36m\u001b[0m\n\u001b[0;31m    DB_HOST=35.208.82.175\u001b[0m\n\u001b[0m                  ^\u001b[0m\n\u001b[0;31mSyntaxError\u001b[0m\u001b[0;31m:\u001b[0m invalid syntax\n"
     ]
    }
   ],
   "source": [
    "connection = mysql.connector.connect(host='DB_HOST', database='DB_NAME', user='DB_USER', password='DB_PASSWORD', connection_timeout=180000)\n",
    "cursor=connection.cursor()\n",
    "query11 = \"\"\" SELECT p.Nombre AS Nombre_Producto, p.Codigo AS Codigo_Producto,\n",
    "c.Nombre AS Nombre_Componente, c.Codigo AS Codigo_Componente\n",
    "FROM PRODUCTO p\n",
    "JOIN esta_compuesto ec ON p.Codigo = ec.Codigo_P\n",
    "JOIN PRODUCTO c ON ec.Codigo_P_compuesto = c.Codigo;\"\"\"\n",
    "cursor.execute(query11)\n",
    "cursor.fetchall()\n",
    "df11 = pd.read_sql(query11, connection)\n",
    "df11.head()"
   ]
  },
  {
   "cell_type": "markdown",
   "metadata": {},
   "source": [
    "## 12. Obtener el importe total de todos los pedidos."
   ]
  },
  {
   "cell_type": "code",
   "execution_count": 33,
   "metadata": {},
   "outputs": [
    {
     "data": {
      "text/plain": [
       "[(234.0,)]"
      ]
     },
     "execution_count": 33,
     "metadata": {},
     "output_type": "execute_result"
    }
   ],
   "source": [
    "connection = mysql.connector.connect(host='35.208.82.175', database='dbgsipp7ucsuwy', user='uqsnolewgvge8', password='upgradehub', connection_timeout=180000)\n",
    "cursor=connection.cursor()\n",
    "query12 = \"\"\" SELECT sum(IMPORTE) FROM PEDIDO; \"\"\"\n",
    "cursor.execute(query12)\n",
    "cursor.fetchall()"
   ]
  },
  {
   "cell_type": "markdown",
   "metadata": {},
   "source": [
    "## 13. Mostrar los empleados que no son repartidores."
   ]
  },
  {
   "cell_type": "code",
   "execution_count": 75,
   "metadata": {},
   "outputs": [
    {
     "name": "stderr",
     "output_type": "stream",
     "text": [
      "/var/folders/kz/j4h0c2x541b2lyb_xs14ztzw0000gn/T/ipykernel_9118/2507883130.py:9: UserWarning: pandas only supports SQLAlchemy connectable (engine/connection) or database string URI or sqlite3 DBAPI2 connection. Other DBAPI2 objects are not tested. Please consider using SQLAlchemy.\n",
      "  df13 = pd.read_sql(query13, connection)\n"
     ]
    },
    {
     "data": {
      "text/html": [
       "<div>\n",
       "<style scoped>\n",
       "    .dataframe tbody tr th:only-of-type {\n",
       "        vertical-align: middle;\n",
       "    }\n",
       "\n",
       "    .dataframe tbody tr th {\n",
       "        vertical-align: top;\n",
       "    }\n",
       "\n",
       "    .dataframe thead th {\n",
       "        text-align: right;\n",
       "    }\n",
       "</style>\n",
       "<table border=\"1\" class=\"dataframe\">\n",
       "  <thead>\n",
       "    <tr style=\"text-align: right;\">\n",
       "      <th></th>\n",
       "      <th>Nombre</th>\n",
       "    </tr>\n",
       "  </thead>\n",
       "  <tbody>\n",
       "    <tr>\n",
       "      <th>0</th>\n",
       "      <td>María Luisa Galdón Ter</td>\n",
       "    </tr>\n",
       "    <tr>\n",
       "      <th>1</th>\n",
       "      <td>Úrsula Delta Camacho</td>\n",
       "    </tr>\n",
       "    <tr>\n",
       "      <th>2</th>\n",
       "      <td>Luis Ramírez Pardo</td>\n",
       "    </tr>\n",
       "    <tr>\n",
       "      <th>3</th>\n",
       "      <td>Sergio Lérida Campos</td>\n",
       "    </tr>\n",
       "    <tr>\n",
       "      <th>4</th>\n",
       "      <td>Piedad Colmenero Zapillo</td>\n",
       "    </tr>\n",
       "  </tbody>\n",
       "</table>\n",
       "</div>"
      ],
      "text/plain": [
       "                     Nombre\n",
       "0    María Luisa Galdón Ter\n",
       "1      Úrsula Delta Camacho\n",
       "2        Luis Ramírez Pardo\n",
       "3      Sergio Lérida Campos\n",
       "4  Piedad Colmenero Zapillo"
      ]
     },
     "execution_count": 75,
     "metadata": {},
     "output_type": "execute_result"
    }
   ],
   "source": [
    "connection = mysql.connector.connect(host='35.208.82.175', database='dbgsipp7ucsuwy', user='uqsnolewgvge8', password='upgradehub', connection_timeout=180000)\n",
    "cursor=connection.cursor()\n",
    "query13 = \"\"\" SELECT EMPLEADO.Nombre\n",
    "FROM EMPLEADO\n",
    "LEFT JOIN REPARTIDOR ON EMPLEADO.DNI = REPARTIDOR.DNI\n",
    "WHERE REPARTIDOR.DNI IS NULL; \"\"\"\n",
    "cursor.execute(query13)\n",
    "cursor.fetchall()\n",
    "df13 = pd.read_sql(query13, connection)\n",
    "df13.head()"
   ]
  },
  {
   "cell_type": "markdown",
   "metadata": {},
   "source": [
    "## 14. Listar los pedidos junto con el nombre del empleado que tomó el pedido."
   ]
  },
  {
   "cell_type": "code",
   "execution_count": 81,
   "metadata": {},
   "outputs": [
    {
     "data": {
      "text/plain": [
       "[(1200.0,)]"
      ]
     },
     "execution_count": 81,
     "metadata": {},
     "output_type": "execute_result"
    }
   ],
   "source": [
    "connection = mysql.connector.connect(host='35.208.82.175', database='dbgsipp7ucsuwy', user='uqsnolewgvge8', password='upgradehub', connection_timeout=180000)\n",
    "cursor=connection.cursor()\n",
    "query14 = \"\"\" SELECT max(Salario) FROM EMPLEADO; \"\"\"\n",
    "cursor.execute(query14)\n",
    "cursor.fetchall()"
   ]
  },
  {
   "cell_type": "markdown",
   "metadata": {},
   "source": [
    "## 15. Encontrar la cantidad total de productos en cada pedido."
   ]
  },
  {
   "cell_type": "code",
   "execution_count": 84,
   "metadata": {},
   "outputs": [
    {
     "name": "stderr",
     "output_type": "stream",
     "text": [
      "/var/folders/kz/j4h0c2x541b2lyb_xs14ztzw0000gn/T/ipykernel_9118/3369792108.py:8: UserWarning: pandas only supports SQLAlchemy connectable (engine/connection) or database string URI or sqlite3 DBAPI2 connection. Other DBAPI2 objects are not tested. Please consider using SQLAlchemy.\n",
      "  df15 = pd.read_sql(query15, connection)\n"
     ]
    },
    {
     "data": {
      "text/html": [
       "<div>\n",
       "<style scoped>\n",
       "    .dataframe tbody tr th:only-of-type {\n",
       "        vertical-align: middle;\n",
       "    }\n",
       "\n",
       "    .dataframe tbody tr th {\n",
       "        vertical-align: top;\n",
       "    }\n",
       "\n",
       "    .dataframe thead th {\n",
       "        text-align: right;\n",
       "    }\n",
       "</style>\n",
       "<table border=\"1\" class=\"dataframe\">\n",
       "  <thead>\n",
       "    <tr style=\"text-align: right;\">\n",
       "      <th></th>\n",
       "      <th>Numero_P</th>\n",
       "      <th>COUNT(*)</th>\n",
       "    </tr>\n",
       "  </thead>\n",
       "  <tbody>\n",
       "    <tr>\n",
       "      <th>0</th>\n",
       "      <td>0001</td>\n",
       "      <td>2</td>\n",
       "    </tr>\n",
       "    <tr>\n",
       "      <th>1</th>\n",
       "      <td>0002</td>\n",
       "      <td>3</td>\n",
       "    </tr>\n",
       "    <tr>\n",
       "      <th>2</th>\n",
       "      <td>0003</td>\n",
       "      <td>2</td>\n",
       "    </tr>\n",
       "    <tr>\n",
       "      <th>3</th>\n",
       "      <td>0004</td>\n",
       "      <td>2</td>\n",
       "    </tr>\n",
       "    <tr>\n",
       "      <th>4</th>\n",
       "      <td>0005</td>\n",
       "      <td>3</td>\n",
       "    </tr>\n",
       "  </tbody>\n",
       "</table>\n",
       "</div>"
      ],
      "text/plain": [
       "  Numero_P  COUNT(*)\n",
       "0     0001         2\n",
       "1     0002         3\n",
       "2     0003         2\n",
       "3     0004         2\n",
       "4     0005         3"
      ]
     },
     "execution_count": 84,
     "metadata": {},
     "output_type": "execute_result"
    }
   ],
   "source": [
    "connection = mysql.connector.connect(host='35.208.82.175', database='dbgsipp7ucsuwy', user='uqsnolewgvge8', password='upgradehub', connection_timeout=180000)\n",
    "cursor=connection.cursor()\n",
    "query15 = \"\"\" SELECT Numero_P, COUNT(*)\n",
    "FROM consta\n",
    "GROUP BY Numero_P; \"\"\"\n",
    "cursor.execute(query15)\n",
    "cursor.fetchall()\n",
    "df15 = pd.read_sql(query15, connection)\n",
    "df15.head()"
   ]
  },
  {
   "cell_type": "markdown",
   "metadata": {},
   "source": [
    "## 16. Obtener el nombre del repartidorES y el importe de los pedidos que han entregado.\n",
    "SELECT r.Nombre as Nombre_Repartidor, p.Importe\n",
    "FROM REPARTIDOR r\n",
    "JOIN PEDIDO p ON r.DNI = p.DNI_R; \n",
    "\n",
    "SELECT Nombre FROM EMPLEADOS, count(*) in Pedidos(Importe)"
   ]
  },
  {
   "cell_type": "code",
   "execution_count": 88,
   "metadata": {},
   "outputs": [
    {
     "data": {
      "text/plain": [
       "[('Juan Sánchez López', 10.0),\n",
       " ('Alejandro Pardo López', 15.0),\n",
       " ('Alejandro Pardo López', 13.0),\n",
       " ('Laura Jiménez Jiménez', 13.0),\n",
       " ('Carlos Sánchez Ruíz', 14.0),\n",
       " ('Laura Jiménez Jiménez', 23.0),\n",
       " ('Carlos Sánchez Ruíz', 17.0),\n",
       " ('Juan Pardo Rubio', 14.0),\n",
       " ('Alejandro Pardo López', 25.0)]"
      ]
     },
     "execution_count": 88,
     "metadata": {},
     "output_type": "execute_result"
    }
   ],
   "source": [
    "connection = mysql.connector.connect(host='35.208.82.175', database='dbgsipp7ucsuwy', user='uqsnolewgvge8', password='upgradehub', connection_timeout=180000)\n",
    "cursor=connection.cursor()\n",
    "query16 = \"\"\"  SELECT r.Nombre as Nombre_Repartidor, p.Importe FROM REPARTIDOR r JOIN PEDIDO p ON r.DNI = p.DNI_R; SELECT Nombre FROM EMPLEADOS, count(*) in Pedidos(Importe) \"\"\"\n",
    "cursor.execute(query16)\n",
    "cursor.fetchall()\n"
   ]
  },
  {
   "cell_type": "markdown",
   "metadata": {},
   "source": [
    "## 17. Listar todos los pedidos junto con la hora en que fueron tomados y preparados.\n",
    "SELECT NUMERO, Hora_tm, Hora_pre\n",
    "FROM PEDIDO"
   ]
  },
  {
   "cell_type": "code",
   "execution_count": 9,
   "metadata": {},
   "outputs": [
    {
     "name": "stderr",
     "output_type": "stream",
     "text": [
      "/var/folders/kz/j4h0c2x541b2lyb_xs14ztzw0000gn/T/ipykernel_9118/329224099.py:9: UserWarning: pandas only supports SQLAlchemy connectable (engine/connection) or database string URI or sqlite3 DBAPI2 connection. Other DBAPI2 objects are not tested. Please consider using SQLAlchemy.\n",
      "  df17 = pd.read_sql(query17, connection)\n"
     ]
    },
    {
     "data": {
      "text/html": [
       "<div>\n",
       "<style scoped>\n",
       "    .dataframe tbody tr th:only-of-type {\n",
       "        vertical-align: middle;\n",
       "    }\n",
       "\n",
       "    .dataframe tbody tr th {\n",
       "        vertical-align: top;\n",
       "    }\n",
       "\n",
       "    .dataframe thead th {\n",
       "        text-align: right;\n",
       "    }\n",
       "</style>\n",
       "<table border=\"1\" class=\"dataframe\">\n",
       "  <thead>\n",
       "    <tr style=\"text-align: right;\">\n",
       "      <th></th>\n",
       "      <th>NUMERO</th>\n",
       "      <th>Hora_tm</th>\n",
       "      <th>Hora_pre</th>\n",
       "    </tr>\n",
       "  </thead>\n",
       "  <tbody>\n",
       "    <tr>\n",
       "      <th>0</th>\n",
       "      <td>0001</td>\n",
       "      <td>0 days 12:00:00</td>\n",
       "      <td>0 days 12:15:00</td>\n",
       "    </tr>\n",
       "    <tr>\n",
       "      <th>1</th>\n",
       "      <td>0002</td>\n",
       "      <td>0 days 13:30:00</td>\n",
       "      <td>0 days 13:45:00</td>\n",
       "    </tr>\n",
       "    <tr>\n",
       "      <th>2</th>\n",
       "      <td>0003</td>\n",
       "      <td>0 days 15:00:00</td>\n",
       "      <td>0 days 15:15:00</td>\n",
       "    </tr>\n",
       "    <tr>\n",
       "      <th>3</th>\n",
       "      <td>0004</td>\n",
       "      <td>0 days 14:02:00</td>\n",
       "      <td>0 days 14:30:00</td>\n",
       "    </tr>\n",
       "    <tr>\n",
       "      <th>4</th>\n",
       "      <td>0005</td>\n",
       "      <td>0 days 19:02:00</td>\n",
       "      <td>0 days 19:30:00</td>\n",
       "    </tr>\n",
       "  </tbody>\n",
       "</table>\n",
       "</div>"
      ],
      "text/plain": [
       "  NUMERO         Hora_tm        Hora_pre\n",
       "0   0001 0 days 12:00:00 0 days 12:15:00\n",
       "1   0002 0 days 13:30:00 0 days 13:45:00\n",
       "2   0003 0 days 15:00:00 0 days 15:15:00\n",
       "3   0004 0 days 14:02:00 0 days 14:30:00\n",
       "4   0005 0 days 19:02:00 0 days 19:30:00"
      ]
     },
     "execution_count": 9,
     "metadata": {},
     "output_type": "execute_result"
    }
   ],
   "source": [
    "connection = mysql.connector.connect(host='35.208.82.175', database='dbgsipp7ucsuwy', user='uqsnolewgvge8', password='upgradehub', connection_timeout=180000)\n",
    "cursor=connection.cursor()\n",
    "query17 = \"\"\" SELECT NUMERO, Hora_tm, Hora_pre\n",
    "FROM PEDIDO; \"\"\"\n",
    "cursor.execute(query17)\n",
    "cursor.fetchall()\n",
    "connection = mysql.connector.connect(host='35.208.82.175', database='dbgsipp7ucsuwy', user='uqsnolewgvge8', password='upgradehub', connection_timeout=180000)\n",
    "cursor=connection.cursor()\n",
    "df17 = pd.read_sql(query17, connection)\n",
    "df17.head()"
   ]
  },
  {
   "cell_type": "markdown",
   "metadata": {},
   "source": [
    "## 18. Mostrar el total de incentivos pagados a los repartidores.\n",
    "SELECT SUM(Incentivo) AS Total_Incentivos_Pagados FROM REPARTIDOR;"
   ]
  },
  {
   "cell_type": "code",
   "execution_count": 56,
   "metadata": {},
   "outputs": [
    {
     "name": "stderr",
     "output_type": "stream",
     "text": [
      "/var/folders/kz/j4h0c2x541b2lyb_xs14ztzw0000gn/T/ipykernel_9118/2688519453.py:6: UserWarning: pandas only supports SQLAlchemy connectable (engine/connection) or database string URI or sqlite3 DBAPI2 connection. Other DBAPI2 objects are not tested. Please consider using SQLAlchemy.\n",
      "  df18 = pd.read_sql(query18, connection)\n"
     ]
    },
    {
     "data": {
      "text/html": [
       "<div>\n",
       "<style scoped>\n",
       "    .dataframe tbody tr th:only-of-type {\n",
       "        vertical-align: middle;\n",
       "    }\n",
       "\n",
       "    .dataframe tbody tr th {\n",
       "        vertical-align: top;\n",
       "    }\n",
       "\n",
       "    .dataframe thead th {\n",
       "        text-align: right;\n",
       "    }\n",
       "</style>\n",
       "<table border=\"1\" class=\"dataframe\">\n",
       "  <thead>\n",
       "    <tr style=\"text-align: right;\">\n",
       "      <th></th>\n",
       "      <th>Total_Incentivos_Pagados</th>\n",
       "    </tr>\n",
       "  </thead>\n",
       "  <tbody>\n",
       "    <tr>\n",
       "      <th>0</th>\n",
       "      <td>2000.0</td>\n",
       "    </tr>\n",
       "  </tbody>\n",
       "</table>\n",
       "</div>"
      ],
      "text/plain": [
       "   Total_Incentivos_Pagados\n",
       "0                    2000.0"
      ]
     },
     "execution_count": 56,
     "metadata": {},
     "output_type": "execute_result"
    }
   ],
   "source": [
    "connection = mysql.connector.connect(host='35.208.82.175', database='dbgsipp7ucsuwy', user='uqsnolewgvge8', password='upgradehub', connection_timeout=180000)\n",
    "cursor=connection.cursor()\n",
    "query18 = \"\"\"SELECT SUM(Incentivo) AS Total_Incentivos_Pagados FROM REPARTIDOR;\"\"\"\n",
    "cursor.execute(query18)\n",
    "cursor.fetchall()\n",
    "df18 = pd.read_sql(query18, connection)\n",
    "df18.head()\n"
   ]
  },
  {
   "cell_type": "markdown",
   "metadata": {},
   "source": [
    "## 19. Encontrar los empleados que han tomado más de 5 pedidos."
   ]
  },
  {
   "cell_type": "code",
   "execution_count": 58,
   "metadata": {},
   "outputs": [
    {
     "data": {
      "text/plain": [
       "[]"
      ]
     },
     "execution_count": 58,
     "metadata": {},
     "output_type": "execute_result"
    }
   ],
   "source": [
    "connection = mysql.connector.connect(host='35.208.82.175', database='dbgsipp7ucsuwy', user='uqsnolewgvge8', password='upgradehub', connection_timeout=180000)\n",
    "cursor=connection.cursor()\n",
    "query19 = \"\"\"\n",
    "SELECT E.Nombre AS Nombre_Empleado, COUNT(P.Numero) AS Total_Pedidos_Tomados\n",
    "FROM EMPLEADO E\n",
    "JOIN PEDIDO P ON E.DNI = P.DNI_ETM\n",
    "GROUP BY E.Nombre\n",
    "HAVING COUNT(P.Numero) > 5;\n",
    "\"\"\"\n",
    "cursor.execute(query19)\n",
    "cursor.fetchall()\n",
    "print(No hay empleados que hayan tomado más de 5 pedidos)"
   ]
  },
  {
   "cell_type": "markdown",
   "metadata": {},
   "source": [
    "## 20. Listar todos los pedidos junto con el nombre del empleado que los preparó."
   ]
  },
  {
   "cell_type": "code",
   "execution_count": 18,
   "metadata": {},
   "outputs": [
    {
     "name": "stderr",
     "output_type": "stream",
     "text": [
      "/var/folders/kz/j4h0c2x541b2lyb_xs14ztzw0000gn/T/ipykernel_9118/435112107.py:9: UserWarning: pandas only supports SQLAlchemy connectable (engine/connection) or database string URI or sqlite3 DBAPI2 connection. Other DBAPI2 objects are not tested. Please consider using SQLAlchemy.\n",
      "  df20= pd.read_sql(query20, connection)\n"
     ]
    },
    {
     "data": {
      "text/html": [
       "<div>\n",
       "<style scoped>\n",
       "    .dataframe tbody tr th:only-of-type {\n",
       "        vertical-align: middle;\n",
       "    }\n",
       "\n",
       "    .dataframe tbody tr th {\n",
       "        vertical-align: top;\n",
       "    }\n",
       "\n",
       "    .dataframe thead th {\n",
       "        text-align: right;\n",
       "    }\n",
       "</style>\n",
       "<table border=\"1\" class=\"dataframe\">\n",
       "  <thead>\n",
       "    <tr style=\"text-align: right;\">\n",
       "      <th></th>\n",
       "      <th>Numero_Pedido</th>\n",
       "      <th>Nombre_Empleado_Preparo</th>\n",
       "    </tr>\n",
       "  </thead>\n",
       "  <tbody>\n",
       "    <tr>\n",
       "      <th>0</th>\n",
       "      <td>0005</td>\n",
       "      <td>María Luisa Galdón Ter</td>\n",
       "    </tr>\n",
       "    <tr>\n",
       "      <th>1</th>\n",
       "      <td>0001</td>\n",
       "      <td>Úrsula Delta Camacho</td>\n",
       "    </tr>\n",
       "    <tr>\n",
       "      <th>2</th>\n",
       "      <td>0010</td>\n",
       "      <td>Piedad Colmenero Zapillo</td>\n",
       "    </tr>\n",
       "    <tr>\n",
       "      <th>3</th>\n",
       "      <td>0011</td>\n",
       "      <td>Piedad Colmenero Zapillo</td>\n",
       "    </tr>\n",
       "    <tr>\n",
       "      <th>4</th>\n",
       "      <td>0003</td>\n",
       "      <td>María Sánchez Cid</td>\n",
       "    </tr>\n",
       "    <tr>\n",
       "      <th>5</th>\n",
       "      <td>0008</td>\n",
       "      <td>Martín Guerrero López</td>\n",
       "    </tr>\n",
       "    <tr>\n",
       "      <th>6</th>\n",
       "      <td>0009</td>\n",
       "      <td>Carmen Hernández Pío</td>\n",
       "    </tr>\n",
       "    <tr>\n",
       "      <th>7</th>\n",
       "      <td>0002</td>\n",
       "      <td>Pedro Jiménez Ruiz</td>\n",
       "    </tr>\n",
       "    <tr>\n",
       "      <th>8</th>\n",
       "      <td>0004</td>\n",
       "      <td>Pedro Jiménez Ruiz</td>\n",
       "    </tr>\n",
       "    <tr>\n",
       "      <th>9</th>\n",
       "      <td>0006</td>\n",
       "      <td>Soledad Campillo Molina</td>\n",
       "    </tr>\n",
       "    <tr>\n",
       "      <th>10</th>\n",
       "      <td>0007</td>\n",
       "      <td>Soledad Campillo Molina</td>\n",
       "    </tr>\n",
       "  </tbody>\n",
       "</table>\n",
       "</div>"
      ],
      "text/plain": [
       "   Numero_Pedido   Nombre_Empleado_Preparo\n",
       "0           0005    María Luisa Galdón Ter\n",
       "1           0001      Úrsula Delta Camacho\n",
       "2           0010  Piedad Colmenero Zapillo\n",
       "3           0011  Piedad Colmenero Zapillo\n",
       "4           0003         María Sánchez Cid\n",
       "5           0008     Martín Guerrero López\n",
       "6           0009      Carmen Hernández Pío\n",
       "7           0002        Pedro Jiménez Ruiz\n",
       "8           0004        Pedro Jiménez Ruiz\n",
       "9           0006   Soledad Campillo Molina\n",
       "10          0007   Soledad Campillo Molina"
      ]
     },
     "execution_count": 18,
     "metadata": {},
     "output_type": "execute_result"
    }
   ],
   "source": [
    "connection = mysql.connector.connect(host='35.208.82.175', database='dbgsipp7ucsuwy', user='uqsnolewgvge8', password='upgradehub', connection_timeout=180000)\n",
    "cursor=connection.cursor()\n",
    "query20 = \"\"\" SELECT P.Numero AS Numero_Pedido, E.Nombre AS Nombre_Empleado_Preparo\n",
    "FROM PEDIDO P\n",
    "JOIN EMPLEADO E ON P.DNI_EP = E.DNI; \"\"\"\n",
    "cursor.execute(query20)\n",
    "cursor.fetchall()\n",
    "\n",
    "df20= pd.read_sql(query20, connection)\n",
    "df20"
   ]
  },
  {
   "cell_type": "markdown",
   "metadata": {},
   "source": [
    "## 21. Mostrar los productos cuyo precio es mayor que el precio promedio de todos los productos."
   ]
  },
  {
   "cell_type": "code",
   "execution_count": 20,
   "metadata": {},
   "outputs": [
    {
     "name": "stderr",
     "output_type": "stream",
     "text": [
      "/var/folders/kz/j4h0c2x541b2lyb_xs14ztzw0000gn/T/ipykernel_9118/4021615485.py:8: UserWarning: pandas only supports SQLAlchemy connectable (engine/connection) or database string URI or sqlite3 DBAPI2 connection. Other DBAPI2 objects are not tested. Please consider using SQLAlchemy.\n",
      "  df21= pd.read_sql(query21, connection)\n"
     ]
    },
    {
     "data": {
      "text/html": [
       "<div>\n",
       "<style scoped>\n",
       "    .dataframe tbody tr th:only-of-type {\n",
       "        vertical-align: middle;\n",
       "    }\n",
       "\n",
       "    .dataframe tbody tr th {\n",
       "        vertical-align: top;\n",
       "    }\n",
       "\n",
       "    .dataframe thead th {\n",
       "        text-align: right;\n",
       "    }\n",
       "</style>\n",
       "<table border=\"1\" class=\"dataframe\">\n",
       "  <thead>\n",
       "    <tr style=\"text-align: right;\">\n",
       "      <th></th>\n",
       "      <th>Codigo</th>\n",
       "      <th>Nombre</th>\n",
       "      <th>Precio</th>\n",
       "    </tr>\n",
       "  </thead>\n",
       "  <tbody>\n",
       "    <tr>\n",
       "      <th>0</th>\n",
       "      <td>06</td>\n",
       "      <td>Pollo</td>\n",
       "      <td>3.6</td>\n",
       "    </tr>\n",
       "    <tr>\n",
       "      <th>1</th>\n",
       "      <td>09</td>\n",
       "      <td>Coca cola</td>\n",
       "      <td>3.0</td>\n",
       "    </tr>\n",
       "    <tr>\n",
       "      <th>2</th>\n",
       "      <td>10</td>\n",
       "      <td>Nestea</td>\n",
       "      <td>3.0</td>\n",
       "    </tr>\n",
       "    <tr>\n",
       "      <th>3</th>\n",
       "      <td>11</td>\n",
       "      <td>Menú de Pollo</td>\n",
       "      <td>5.0</td>\n",
       "    </tr>\n",
       "    <tr>\n",
       "      <th>4</th>\n",
       "      <td>12</td>\n",
       "      <td>Menú de Hamburguesa con queso</td>\n",
       "      <td>6.0</td>\n",
       "    </tr>\n",
       "    <tr>\n",
       "      <th>5</th>\n",
       "      <td>13</td>\n",
       "      <td>Menú de Pollo con queso</td>\n",
       "      <td>6.0</td>\n",
       "    </tr>\n",
       "    <tr>\n",
       "      <th>6</th>\n",
       "      <td>14</td>\n",
       "      <td>Menú de Hamburguesa</td>\n",
       "      <td>6.0</td>\n",
       "    </tr>\n",
       "    <tr>\n",
       "      <th>7</th>\n",
       "      <td>19</td>\n",
       "      <td>Fanta</td>\n",
       "      <td>3.0</td>\n",
       "    </tr>\n",
       "  </tbody>\n",
       "</table>\n",
       "</div>"
      ],
      "text/plain": [
       "  Codigo                         Nombre  Precio\n",
       "0     06                          Pollo     3.6\n",
       "1     09                      Coca cola     3.0\n",
       "2     10                         Nestea     3.0\n",
       "3     11                  Menú de Pollo     5.0\n",
       "4     12  Menú de Hamburguesa con queso     6.0\n",
       "5     13        Menú de Pollo con queso     6.0\n",
       "6     14            Menú de Hamburguesa     6.0\n",
       "7     19                          Fanta     3.0"
      ]
     },
     "execution_count": 20,
     "metadata": {},
     "output_type": "execute_result"
    }
   ],
   "source": [
    "connection = mysql.connector.connect(host='35.208.82.175', database='dbgsipp7ucsuwy', user='uqsnolewgvge8', password='upgradehub', connection_timeout=180000)\n",
    "cursor=connection.cursor()\n",
    "query21 = \"\"\" SELECT *\n",
    "FROM PRODUCTO\n",
    "WHERE Precio > (SELECT AVG(Precio) FROM PRODUCTO) \"\"\"\n",
    "cursor.execute(query21)\n",
    "cursor.fetchall()\n",
    "df21= pd.read_sql(query21, connection)\n",
    "df21"
   ]
  },
  {
   "cell_type": "markdown",
   "metadata": {},
   "source": [
    "## 22. Listar los empleados y repartidores con el mismo turno.\n",
    "SELECT E.Nombre AS Nombre_Empleado, R.Nombre AS Nombre_Repartidor, E.Turno\n",
    "FROM EMPLEADO E\n",
    "JOIN REPARTIDOR R ON E.Turno = R.Turno;"
   ]
  },
  {
   "cell_type": "code",
   "execution_count": 23,
   "metadata": {},
   "outputs": [
    {
     "name": "stderr",
     "output_type": "stream",
     "text": [
      "/var/folders/kz/j4h0c2x541b2lyb_xs14ztzw0000gn/T/ipykernel_9118/4007042920.py:8: UserWarning: pandas only supports SQLAlchemy connectable (engine/connection) or database string URI or sqlite3 DBAPI2 connection. Other DBAPI2 objects are not tested. Please consider using SQLAlchemy.\n",
      "  df22= pd.read_sql(query22, connection)\n"
     ]
    },
    {
     "data": {
      "text/html": [
       "<div>\n",
       "<style scoped>\n",
       "    .dataframe tbody tr th:only-of-type {\n",
       "        vertical-align: middle;\n",
       "    }\n",
       "\n",
       "    .dataframe tbody tr th {\n",
       "        vertical-align: top;\n",
       "    }\n",
       "\n",
       "    .dataframe thead th {\n",
       "        text-align: right;\n",
       "    }\n",
       "</style>\n",
       "<table border=\"1\" class=\"dataframe\">\n",
       "  <thead>\n",
       "    <tr style=\"text-align: right;\">\n",
       "      <th></th>\n",
       "      <th>Nombre_Empleado</th>\n",
       "      <th>Nombre_Repartidor</th>\n",
       "      <th>Turno</th>\n",
       "    </tr>\n",
       "  </thead>\n",
       "  <tbody>\n",
       "    <tr>\n",
       "      <th>0</th>\n",
       "      <td>María Luisa Galdón Ter</td>\n",
       "      <td>Juan Pardo Rubio</td>\n",
       "      <td>noche</td>\n",
       "    </tr>\n",
       "    <tr>\n",
       "      <th>1</th>\n",
       "      <td>María Luisa Galdón Ter</td>\n",
       "      <td>Laura Jiménez Jiménez</td>\n",
       "      <td>noche</td>\n",
       "    </tr>\n",
       "    <tr>\n",
       "      <th>2</th>\n",
       "      <td>Úrsula Delta Camacho</td>\n",
       "      <td>Alejandro Pardo López</td>\n",
       "      <td>mañana</td>\n",
       "    </tr>\n",
       "    <tr>\n",
       "      <th>3</th>\n",
       "      <td>Úrsula Delta Camacho</td>\n",
       "      <td>Juan Sánchez López</td>\n",
       "      <td>mañana</td>\n",
       "    </tr>\n",
       "    <tr>\n",
       "      <th>4</th>\n",
       "      <td>Luis Ramírez Pardo</td>\n",
       "      <td>Alejandro Pardo López</td>\n",
       "      <td>mañana</td>\n",
       "    </tr>\n",
       "    <tr>\n",
       "      <th>5</th>\n",
       "      <td>Luis Ramírez Pardo</td>\n",
       "      <td>Juan Sánchez López</td>\n",
       "      <td>mañana</td>\n",
       "    </tr>\n",
       "    <tr>\n",
       "      <th>6</th>\n",
       "      <td>Sergio Lérida Campos</td>\n",
       "      <td>Carmen Capel Pío</td>\n",
       "      <td>tarde</td>\n",
       "    </tr>\n",
       "    <tr>\n",
       "      <th>7</th>\n",
       "      <td>Sergio Lérida Campos</td>\n",
       "      <td>Carlos Sánchez Ruíz</td>\n",
       "      <td>tarde</td>\n",
       "    </tr>\n",
       "    <tr>\n",
       "      <th>8</th>\n",
       "      <td>Piedad Colmenero Zapillo</td>\n",
       "      <td>Juan Pardo Rubio</td>\n",
       "      <td>noche</td>\n",
       "    </tr>\n",
       "    <tr>\n",
       "      <th>9</th>\n",
       "      <td>Piedad Colmenero Zapillo</td>\n",
       "      <td>Laura Jiménez Jiménez</td>\n",
       "      <td>noche</td>\n",
       "    </tr>\n",
       "    <tr>\n",
       "      <th>10</th>\n",
       "      <td>María Sánchez Cid</td>\n",
       "      <td>Carmen Capel Pío</td>\n",
       "      <td>tarde</td>\n",
       "    </tr>\n",
       "    <tr>\n",
       "      <th>11</th>\n",
       "      <td>María Sánchez Cid</td>\n",
       "      <td>Carlos Sánchez Ruíz</td>\n",
       "      <td>tarde</td>\n",
       "    </tr>\n",
       "    <tr>\n",
       "      <th>12</th>\n",
       "      <td>Martín Guerrero López</td>\n",
       "      <td>Carmen Capel Pío</td>\n",
       "      <td>tarde</td>\n",
       "    </tr>\n",
       "    <tr>\n",
       "      <th>13</th>\n",
       "      <td>Martín Guerrero López</td>\n",
       "      <td>Carlos Sánchez Ruíz</td>\n",
       "      <td>tarde</td>\n",
       "    </tr>\n",
       "    <tr>\n",
       "      <th>14</th>\n",
       "      <td>Carmen Hernández Pío</td>\n",
       "      <td>Alejandro Pardo López</td>\n",
       "      <td>mañana</td>\n",
       "    </tr>\n",
       "    <tr>\n",
       "      <th>15</th>\n",
       "      <td>Carmen Hernández Pío</td>\n",
       "      <td>Juan Sánchez López</td>\n",
       "      <td>mañana</td>\n",
       "    </tr>\n",
       "    <tr>\n",
       "      <th>16</th>\n",
       "      <td>Pedro Jiménez Ruiz</td>\n",
       "      <td>Carmen Capel Pío</td>\n",
       "      <td>tarde</td>\n",
       "    </tr>\n",
       "    <tr>\n",
       "      <th>17</th>\n",
       "      <td>Pedro Jiménez Ruiz</td>\n",
       "      <td>Carlos Sánchez Ruíz</td>\n",
       "      <td>tarde</td>\n",
       "    </tr>\n",
       "    <tr>\n",
       "      <th>18</th>\n",
       "      <td>Soledad Campillo Molina</td>\n",
       "      <td>Juan Pardo Rubio</td>\n",
       "      <td>noche</td>\n",
       "    </tr>\n",
       "    <tr>\n",
       "      <th>19</th>\n",
       "      <td>Soledad Campillo Molina</td>\n",
       "      <td>Laura Jiménez Jiménez</td>\n",
       "      <td>noche</td>\n",
       "    </tr>\n",
       "    <tr>\n",
       "      <th>20</th>\n",
       "      <td>Raúl Rodrigo Roca</td>\n",
       "      <td>Carmen Capel Pío</td>\n",
       "      <td>tarde</td>\n",
       "    </tr>\n",
       "    <tr>\n",
       "      <th>21</th>\n",
       "      <td>Raúl Rodrigo Roca</td>\n",
       "      <td>Carlos Sánchez Ruíz</td>\n",
       "      <td>tarde</td>\n",
       "    </tr>\n",
       "  </tbody>\n",
       "</table>\n",
       "</div>"
      ],
      "text/plain": [
       "             Nombre_Empleado      Nombre_Repartidor   Turno\n",
       "0     María Luisa Galdón Ter       Juan Pardo Rubio   noche\n",
       "1     María Luisa Galdón Ter  Laura Jiménez Jiménez   noche\n",
       "2       Úrsula Delta Camacho  Alejandro Pardo López  mañana\n",
       "3       Úrsula Delta Camacho     Juan Sánchez López  mañana\n",
       "4         Luis Ramírez Pardo  Alejandro Pardo López  mañana\n",
       "5         Luis Ramírez Pardo     Juan Sánchez López  mañana\n",
       "6       Sergio Lérida Campos       Carmen Capel Pío   tarde\n",
       "7       Sergio Lérida Campos    Carlos Sánchez Ruíz   tarde\n",
       "8   Piedad Colmenero Zapillo       Juan Pardo Rubio   noche\n",
       "9   Piedad Colmenero Zapillo  Laura Jiménez Jiménez   noche\n",
       "10         María Sánchez Cid       Carmen Capel Pío   tarde\n",
       "11         María Sánchez Cid    Carlos Sánchez Ruíz   tarde\n",
       "12     Martín Guerrero López       Carmen Capel Pío   tarde\n",
       "13     Martín Guerrero López    Carlos Sánchez Ruíz   tarde\n",
       "14      Carmen Hernández Pío  Alejandro Pardo López  mañana\n",
       "15      Carmen Hernández Pío     Juan Sánchez López  mañana\n",
       "16        Pedro Jiménez Ruiz       Carmen Capel Pío   tarde\n",
       "17        Pedro Jiménez Ruiz    Carlos Sánchez Ruíz   tarde\n",
       "18   Soledad Campillo Molina       Juan Pardo Rubio   noche\n",
       "19   Soledad Campillo Molina  Laura Jiménez Jiménez   noche\n",
       "20         Raúl Rodrigo Roca       Carmen Capel Pío   tarde\n",
       "21         Raúl Rodrigo Roca    Carlos Sánchez Ruíz   tarde"
      ]
     },
     "execution_count": 23,
     "metadata": {},
     "output_type": "execute_result"
    }
   ],
   "source": [
    "connection = mysql.connector.connect(host='35.208.82.175', database='dbgsipp7ucsuwy', user='uqsnolewgvge8', password='upgradehub', connection_timeout=180000)\n",
    "cursor=connection.cursor()\n",
    "query22 = \"\"\" SELECT E.Nombre AS Nombre_Empleado, R.Nombre AS Nombre_Repartidor, E.Turno\n",
    "FROM EMPLEADO E\n",
    "JOIN REPARTIDOR R ON E.Turno = R.Turno; \"\"\"\n",
    "cursor.execute(query22)\n",
    "cursor.fetchall()\n",
    "df22= pd.read_sql(query22, connection)\n",
    "df22"
   ]
  },
  {
   "cell_type": "markdown",
   "metadata": {},
   "source": [
    "## 23. Obtener los pedidos junto con el nombre del empleado que los tomó y el nombre del repartidor que los entregó.\n",
    "SELECT P.Numero AS Numero_Pedido, E.Nombre AS Nombre_Empleado_Tomo, R.Nombre AS Nombre_Repartidor_Entrego\n",
    "FROM PEDIDO P\n",
    "INNER JOIN EMPLEADO E ON P.DNI_ETM = E.DNI\n",
    "INNER JOIN REPARTIDOR R ON P.DNI_R = R.DNI;"
   ]
  },
  {
   "cell_type": "code",
   "execution_count": 27,
   "metadata": {},
   "outputs": [
    {
     "name": "stderr",
     "output_type": "stream",
     "text": [
      "/var/folders/kz/j4h0c2x541b2lyb_xs14ztzw0000gn/T/ipykernel_9118/3373806082.py:9: UserWarning: pandas only supports SQLAlchemy connectable (engine/connection) or database string URI or sqlite3 DBAPI2 connection. Other DBAPI2 objects are not tested. Please consider using SQLAlchemy.\n",
      "  df23= pd.read_sql(query23, connection)\n"
     ]
    },
    {
     "data": {
      "text/html": [
       "<div>\n",
       "<style scoped>\n",
       "    .dataframe tbody tr th:only-of-type {\n",
       "        vertical-align: middle;\n",
       "    }\n",
       "\n",
       "    .dataframe tbody tr th {\n",
       "        vertical-align: top;\n",
       "    }\n",
       "\n",
       "    .dataframe thead th {\n",
       "        text-align: right;\n",
       "    }\n",
       "</style>\n",
       "<table border=\"1\" class=\"dataframe\">\n",
       "  <thead>\n",
       "    <tr style=\"text-align: right;\">\n",
       "      <th></th>\n",
       "      <th>Numero_Pedido</th>\n",
       "      <th>Nombre_Empleado_Tomo</th>\n",
       "      <th>Nombre_Repartidor_Entrego</th>\n",
       "    </tr>\n",
       "  </thead>\n",
       "  <tbody>\n",
       "    <tr>\n",
       "      <th>0</th>\n",
       "      <td>0004</td>\n",
       "      <td>Raúl Rodrigo Roca</td>\n",
       "      <td>Laura Jiménez Jiménez</td>\n",
       "    </tr>\n",
       "    <tr>\n",
       "      <th>1</th>\n",
       "      <td>0006</td>\n",
       "      <td>Piedad Colmenero Zapillo</td>\n",
       "      <td>Laura Jiménez Jiménez</td>\n",
       "    </tr>\n",
       "    <tr>\n",
       "      <th>2</th>\n",
       "      <td>0008</td>\n",
       "      <td>Raúl Rodrigo Roca</td>\n",
       "      <td>Juan Pardo Rubio</td>\n",
       "    </tr>\n",
       "    <tr>\n",
       "      <th>3</th>\n",
       "      <td>0005</td>\n",
       "      <td>Piedad Colmenero Zapillo</td>\n",
       "      <td>Carlos Sánchez Ruíz</td>\n",
       "    </tr>\n",
       "    <tr>\n",
       "      <th>4</th>\n",
       "      <td>0007</td>\n",
       "      <td>María Luisa Galdón Ter</td>\n",
       "      <td>Carlos Sánchez Ruíz</td>\n",
       "    </tr>\n",
       "    <tr>\n",
       "      <th>5</th>\n",
       "      <td>0001</td>\n",
       "      <td>Luis Ramírez Pardo</td>\n",
       "      <td>Juan Sánchez López</td>\n",
       "    </tr>\n",
       "    <tr>\n",
       "      <th>6</th>\n",
       "      <td>0002</td>\n",
       "      <td>María Sánchez Cid</td>\n",
       "      <td>Alejandro Pardo López</td>\n",
       "    </tr>\n",
       "    <tr>\n",
       "      <th>7</th>\n",
       "      <td>0003</td>\n",
       "      <td>Pedro Jiménez Ruiz</td>\n",
       "      <td>Alejandro Pardo López</td>\n",
       "    </tr>\n",
       "    <tr>\n",
       "      <th>8</th>\n",
       "      <td>0009</td>\n",
       "      <td>Úrsula Delta Camacho</td>\n",
       "      <td>Alejandro Pardo López</td>\n",
       "    </tr>\n",
       "  </tbody>\n",
       "</table>\n",
       "</div>"
      ],
      "text/plain": [
       "  Numero_Pedido      Nombre_Empleado_Tomo Nombre_Repartidor_Entrego\n",
       "0          0004         Raúl Rodrigo Roca     Laura Jiménez Jiménez\n",
       "1          0006  Piedad Colmenero Zapillo     Laura Jiménez Jiménez\n",
       "2          0008         Raúl Rodrigo Roca          Juan Pardo Rubio\n",
       "3          0005  Piedad Colmenero Zapillo       Carlos Sánchez Ruíz\n",
       "4          0007    María Luisa Galdón Ter       Carlos Sánchez Ruíz\n",
       "5          0001        Luis Ramírez Pardo        Juan Sánchez López\n",
       "6          0002         María Sánchez Cid     Alejandro Pardo López\n",
       "7          0003        Pedro Jiménez Ruiz     Alejandro Pardo López\n",
       "8          0009      Úrsula Delta Camacho     Alejandro Pardo López"
      ]
     },
     "execution_count": 27,
     "metadata": {},
     "output_type": "execute_result"
    }
   ],
   "source": [
    "connection = mysql.connector.connect(host='35.208.82.175', database='dbgsipp7ucsuwy', user='uqsnolewgvge8', password='upgradehub', connection_timeout=180000)\n",
    "cursor=connection.cursor()\n",
    "query23 = \"\"\" SELECT P.Numero AS Numero_Pedido, E.Nombre AS Nombre_Empleado_Tomo, R.Nombre AS Nombre_Repartidor_Entrego\n",
    "FROM PEDIDO P\n",
    "INNER JOIN EMPLEADO E ON P.DNI_ETM = E.DNI\n",
    "INNER JOIN REPARTIDOR R ON P.DNI_R = R.DNI; \"\"\"\n",
    "cursor.execute(query23)\n",
    "cursor.fetchall()\n",
    "df23= pd.read_sql(query23, connection)\n",
    "df23"
   ]
  },
  {
   "cell_type": "markdown",
   "metadata": {},
   "source": [
    "## 24. Mostrar los nombres de los productos en mayúsculas.\n",
    "SELECT UPPER(Nombre) FROM PRODUCTO;"
   ]
  },
  {
   "cell_type": "code",
   "execution_count": 28,
   "metadata": {},
   "outputs": [
    {
     "data": {
      "text/plain": [
       "[('AGUA',),\n",
       " ('BACON',),\n",
       " ('COCA COLA',),\n",
       " ('FANTA',),\n",
       " ('FRUTA',),\n",
       " ('HAMBURGUESA',),\n",
       " ('HELADO',),\n",
       " ('LECHUGA',),\n",
       " ('MENÚ DE HAMBURGUESA',),\n",
       " ('MENÚ DE HAMBURGUESA CON QUESO',),\n",
       " ('MENÚ DE POLLO',),\n",
       " ('MENÚ DE POLLO CON QUESO',),\n",
       " ('NESTEA',),\n",
       " ('PATATAS',),\n",
       " ('POLLO',),\n",
       " ('QUESO',),\n",
       " ('TARTA',),\n",
       " ('TOMATE',)]"
      ]
     },
     "execution_count": 28,
     "metadata": {},
     "output_type": "execute_result"
    }
   ],
   "source": [
    "connection = mysql.connector.connect(host='35.208.82.175', database='dbgsipp7ucsuwy', user='uqsnolewgvge8', password='upgradehub', connection_timeout=180000)\n",
    "cursor=connection.cursor()\n",
    "query24 = \"\"\" SELECT UPPER(Nombre) FROM PRODUCTO; \"\"\"\n",
    "cursor.execute(query24)\n",
    "cursor.fetchall()"
   ]
  },
  {
   "cell_type": "markdown",
   "metadata": {},
   "source": [
    "## 25. Obtener el número de pedidos y el total del importe para cada repartidor.\n",
    "SELECT P.DNI_R AS DNI_Repartidor, COUNT(*) AS Total_Pedidos, SUM(P.Importe) AS Total_Importe\n",
    "FROM PEDIDO P\n",
    "WHERE P.DNI_R IS NOT NULL\n",
    "GROUP BY P.DNI_R;"
   ]
  },
  {
   "cell_type": "code",
   "execution_count": 29,
   "metadata": {},
   "outputs": [
    {
     "data": {
      "text/plain": [
       "[('04477744T', 2, 36.0),\n",
       " ('11245621Q', 1, 14.0),\n",
       " ('14188151T', 2, 31.0),\n",
       " ('55675675J', 1, 10.0),\n",
       " ('99009900J', 3, 53.0)]"
      ]
     },
     "execution_count": 29,
     "metadata": {},
     "output_type": "execute_result"
    }
   ],
   "source": [
    "connection = mysql.connector.connect(host='35.208.82.175', database='dbgsipp7ucsuwy', user='uqsnolewgvge8', password='upgradehub', connection_timeout=180000)\n",
    "cursor=connection.cursor()\n",
    "query25 = \"\"\" SELECT P.DNI_R AS DNI_Repartidor, COUNT(*) AS Total_Pedidos, SUM(P.Importe) AS Total_Importe\n",
    "FROM PEDIDO P\n",
    "WHERE P.DNI_R IS NOT NULL\n",
    "GROUP BY P.DNI_R;\n",
    "\"\"\"\n",
    "cursor.execute(query25)\n",
    "cursor.fetchall()"
   ]
  },
  {
   "cell_type": "markdown",
   "metadata": {},
   "source": [
    "## 26. Mostrar los pedidos realizados en el año 2023.\n",
    "SELECT P.DNI_R AS DNI_Repartidor, COUNT(*) AS Total_Pedidos, SUM(P.Importe) AS Total_Importe\n",
    "FROM PEDIDO P\n",
    "WHERE P.DNI_R IS NOT NULL\n",
    "GROUP BY P.DNI_R;"
   ]
  },
  {
   "cell_type": "code",
   "execution_count": 31,
   "metadata": {},
   "outputs": [
    {
     "name": "stderr",
     "output_type": "stream",
     "text": [
      "/var/folders/kz/j4h0c2x541b2lyb_xs14ztzw0000gn/T/ipykernel_9118/258919021.py:12: UserWarning: pandas only supports SQLAlchemy connectable (engine/connection) or database string URI or sqlite3 DBAPI2 connection. Other DBAPI2 objects are not tested. Please consider using SQLAlchemy.\n",
      "  df26 = pd.read_sql(query26, connection)\n"
     ]
    },
    {
     "data": {
      "text/html": [
       "<div>\n",
       "<style scoped>\n",
       "    .dataframe tbody tr th:only-of-type {\n",
       "        vertical-align: middle;\n",
       "    }\n",
       "\n",
       "    .dataframe tbody tr th {\n",
       "        vertical-align: top;\n",
       "    }\n",
       "\n",
       "    .dataframe thead th {\n",
       "        text-align: right;\n",
       "    }\n",
       "</style>\n",
       "<table border=\"1\" class=\"dataframe\">\n",
       "  <thead>\n",
       "    <tr style=\"text-align: right;\">\n",
       "      <th></th>\n",
       "      <th>DNI_Repartidor</th>\n",
       "      <th>Total_Pedidos</th>\n",
       "      <th>Total_Importe</th>\n",
       "    </tr>\n",
       "  </thead>\n",
       "  <tbody>\n",
       "    <tr>\n",
       "      <th>0</th>\n",
       "      <td>04477744T</td>\n",
       "      <td>2</td>\n",
       "      <td>36.0</td>\n",
       "    </tr>\n",
       "    <tr>\n",
       "      <th>1</th>\n",
       "      <td>11245621Q</td>\n",
       "      <td>1</td>\n",
       "      <td>14.0</td>\n",
       "    </tr>\n",
       "    <tr>\n",
       "      <th>2</th>\n",
       "      <td>14188151T</td>\n",
       "      <td>2</td>\n",
       "      <td>31.0</td>\n",
       "    </tr>\n",
       "    <tr>\n",
       "      <th>3</th>\n",
       "      <td>55675675J</td>\n",
       "      <td>1</td>\n",
       "      <td>10.0</td>\n",
       "    </tr>\n",
       "    <tr>\n",
       "      <th>4</th>\n",
       "      <td>99009900J</td>\n",
       "      <td>3</td>\n",
       "      <td>53.0</td>\n",
       "    </tr>\n",
       "  </tbody>\n",
       "</table>\n",
       "</div>"
      ],
      "text/plain": [
       "  DNI_Repartidor  Total_Pedidos  Total_Importe\n",
       "0      04477744T              2           36.0\n",
       "1      11245621Q              1           14.0\n",
       "2      14188151T              2           31.0\n",
       "3      55675675J              1           10.0\n",
       "4      99009900J              3           53.0"
      ]
     },
     "execution_count": 31,
     "metadata": {},
     "output_type": "execute_result"
    }
   ],
   "source": [
    "connection = mysql.connector.connect(host='35.208.82.175', database='dbgsipp7ucsuwy', user='uqsnolewgvge8', password='upgradehub', connection_timeout=180000)\n",
    "cursor=connection.cursor()\n",
    "query26 = \"\"\"SELECT P.DNI_R AS DNI_Repartidor, COUNT(*) AS Total_Pedidos, SUM(P.Importe) AS Total_Importe\n",
    "FROM PEDIDO P\n",
    "WHERE P.DNI_R IS NOT NULL\n",
    "GROUP BY P.DNI_R;\n",
    "\"\"\"\n",
    "cursor.execute(query26)\n",
    "cursor.fetchall()\n",
    "connection = mysql.connector.connect(host='35.208.82.175', database='dbgsipp7ucsuwy', user='uqsnolewgvge8', password='upgradehub', connection_timeout=180000)\n",
    "cursor=connection.cursor()\n",
    "df26 = pd.read_sql(query26, connection)\n",
    "df26.head(50)"
   ]
  },
  {
   "cell_type": "markdown",
   "metadata": {},
   "source": [
    "## 27. Listar los repartidores que han entregado pedidos en la última semana."
   ]
  },
  {
   "cell_type": "code",
   "execution_count": 32,
   "metadata": {},
   "outputs": [
    {
     "data": {
      "text/plain": [
       "[]"
      ]
     },
     "execution_count": 32,
     "metadata": {},
     "output_type": "execute_result"
    }
   ],
   "source": [
    "connection = mysql.connector.connect(host='35.208.82.175', database='dbgsipp7ucsuwy', user='uqsnolewgvge8', password='upgradehub', connection_timeout=180000)\n",
    "cursor=connection.cursor()\n",
    "query27 = \"\"\" SELECT DISTINCT R.*\n",
    "FROM REPARTIDOR R\n",
    "JOIN PEDIDO P ON R.DNI = P.DNI_R\n",
    "WHERE P.Fecha >= CURDATE() - INTERVAL 7 DAY AND P.Fecha <= CURDATE(); \"\"\"\n",
    "cursor.execute(query27)\n",
    "cursor.fetchall()"
   ]
  },
  {
   "cell_type": "markdown",
   "metadata": {},
   "source": [
    "## 28. Obtener la diferencia en días entre la fecha del pedido y la fecha actual para todos los pedidos."
   ]
  },
  {
   "cell_type": "code",
   "execution_count": 33,
   "metadata": {},
   "outputs": [
    {
     "data": {
      "text/plain": [
       "[('0001', 1327),\n",
       " ('0002', 1300),\n",
       " ('0003', 1327),\n",
       " ('0004', 1301),\n",
       " ('0005', 1367),\n",
       " ('0006', 1296),\n",
       " ('0007', 1347),\n",
       " ('0008', 1357),\n",
       " ('0009', 1288),\n",
       " ('0010', 1306),\n",
       " ('0011', 1306)]"
      ]
     },
     "execution_count": 33,
     "metadata": {},
     "output_type": "execute_result"
    }
   ],
   "source": [
    "connection = mysql.connector.connect(host='35.208.82.175', database='dbgsipp7ucsuwy', user='uqsnolewgvge8', password='upgradehub', connection_timeout=180000)\n",
    "cursor=connection.cursor()\n",
    "query28 = \"\"\" SELECT Numero AS Numero_Pedido, DATEDIFF(CURDATE(), Fecha) AS Diferencia_En_Dias\n",
    "FROM PEDIDO; \"\"\"\n",
    "cursor.execute(query28)\n",
    "cursor.fetchall()"
   ]
  },
  {
   "cell_type": "markdown",
   "metadata": {},
   "source": [
    "## 29. Listar los empleados que trabajan en el turno de mañana y tienen un salario mayor a 2000."
   ]
  },
  {
   "cell_type": "code",
   "execution_count": 36,
   "metadata": {},
   "outputs": [
    {
     "name": "stdout",
     "output_type": "stream",
     "text": [
      "No existen empleados que trabajan en el turno de mañana y tienen un salario mayor a 2000\n"
     ]
    }
   ],
   "source": [
    "connection = mysql.connector.connect(host='35.208.82.175', database='dbgsipp7ucsuwy', user='uqsnolewgvge8', password='upgradehub', connection_timeout=180000)\n",
    "cursor=connection.cursor()\n",
    "query29 = \"\"\" SELECT *\n",
    "FROM EMPLEADO\n",
    "WHERE Turno = 'mañana' AND Salario > 2000; \"\"\"\n",
    "cursor.execute(query29)\n",
    "cursor.fetchall()\n",
    "print('No existen empleados que trabajan en el turno de mañana y tienen un salario mayor a 2000')"
   ]
  },
  {
   "cell_type": "markdown",
   "metadata": {},
   "source": [
    "## 30. Mostrar los productos y su precio con un incremento del 10%."
   ]
  },
  {
   "cell_type": "code",
   "execution_count": 38,
   "metadata": {},
   "outputs": [
    {
     "name": "stderr",
     "output_type": "stream",
     "text": [
      "/var/folders/kz/j4h0c2x541b2lyb_xs14ztzw0000gn/T/ipykernel_9118/258185352.py:7: UserWarning: pandas only supports SQLAlchemy connectable (engine/connection) or database string URI or sqlite3 DBAPI2 connection. Other DBAPI2 objects are not tested. Please consider using SQLAlchemy.\n",
      "  df30 = pd.read_sql(query30, connection)\n"
     ]
    },
    {
     "data": {
      "text/html": [
       "<div>\n",
       "<style scoped>\n",
       "    .dataframe tbody tr th:only-of-type {\n",
       "        vertical-align: middle;\n",
       "    }\n",
       "\n",
       "    .dataframe tbody tr th {\n",
       "        vertical-align: top;\n",
       "    }\n",
       "\n",
       "    .dataframe thead th {\n",
       "        text-align: right;\n",
       "    }\n",
       "</style>\n",
       "<table border=\"1\" class=\"dataframe\">\n",
       "  <thead>\n",
       "    <tr style=\"text-align: right;\">\n",
       "      <th></th>\n",
       "      <th>Nombre</th>\n",
       "      <th>Precio</th>\n",
       "      <th>Precio_Con_Incremento</th>\n",
       "    </tr>\n",
       "  </thead>\n",
       "  <tbody>\n",
       "    <tr>\n",
       "      <th>0</th>\n",
       "      <td>Hamburguesa</td>\n",
       "      <td>2.6</td>\n",
       "      <td>2.86</td>\n",
       "    </tr>\n",
       "    <tr>\n",
       "      <th>1</th>\n",
       "      <td>Patatas</td>\n",
       "      <td>2.0</td>\n",
       "      <td>2.20</td>\n",
       "    </tr>\n",
       "    <tr>\n",
       "      <th>2</th>\n",
       "      <td>tomate</td>\n",
       "      <td>0.5</td>\n",
       "      <td>0.55</td>\n",
       "    </tr>\n",
       "    <tr>\n",
       "      <th>3</th>\n",
       "      <td>Queso</td>\n",
       "      <td>1.0</td>\n",
       "      <td>1.10</td>\n",
       "    </tr>\n",
       "    <tr>\n",
       "      <th>4</th>\n",
       "      <td>Lechuga</td>\n",
       "      <td>0.5</td>\n",
       "      <td>0.55</td>\n",
       "    </tr>\n",
       "    <tr>\n",
       "      <th>5</th>\n",
       "      <td>Pollo</td>\n",
       "      <td>3.6</td>\n",
       "      <td>3.96</td>\n",
       "    </tr>\n",
       "    <tr>\n",
       "      <th>6</th>\n",
       "      <td>Bacon</td>\n",
       "      <td>1.5</td>\n",
       "      <td>1.65</td>\n",
       "    </tr>\n",
       "    <tr>\n",
       "      <th>7</th>\n",
       "      <td>Coca cola</td>\n",
       "      <td>3.0</td>\n",
       "      <td>3.30</td>\n",
       "    </tr>\n",
       "    <tr>\n",
       "      <th>8</th>\n",
       "      <td>Nestea</td>\n",
       "      <td>3.0</td>\n",
       "      <td>3.30</td>\n",
       "    </tr>\n",
       "    <tr>\n",
       "      <th>9</th>\n",
       "      <td>Menú de Pollo</td>\n",
       "      <td>5.0</td>\n",
       "      <td>5.50</td>\n",
       "    </tr>\n",
       "    <tr>\n",
       "      <th>10</th>\n",
       "      <td>Menú de Hamburguesa con queso</td>\n",
       "      <td>6.0</td>\n",
       "      <td>6.60</td>\n",
       "    </tr>\n",
       "    <tr>\n",
       "      <th>11</th>\n",
       "      <td>Menú de Pollo con queso</td>\n",
       "      <td>6.0</td>\n",
       "      <td>6.60</td>\n",
       "    </tr>\n",
       "    <tr>\n",
       "      <th>12</th>\n",
       "      <td>Menú de Hamburguesa</td>\n",
       "      <td>6.0</td>\n",
       "      <td>6.60</td>\n",
       "    </tr>\n",
       "    <tr>\n",
       "      <th>13</th>\n",
       "      <td>Helado</td>\n",
       "      <td>1.0</td>\n",
       "      <td>1.10</td>\n",
       "    </tr>\n",
       "    <tr>\n",
       "      <th>14</th>\n",
       "      <td>Tarta</td>\n",
       "      <td>2.0</td>\n",
       "      <td>2.20</td>\n",
       "    </tr>\n",
       "    <tr>\n",
       "      <th>15</th>\n",
       "      <td>Fruta</td>\n",
       "      <td>1.0</td>\n",
       "      <td>1.10</td>\n",
       "    </tr>\n",
       "    <tr>\n",
       "      <th>16</th>\n",
       "      <td>Agua</td>\n",
       "      <td>2.0</td>\n",
       "      <td>2.20</td>\n",
       "    </tr>\n",
       "    <tr>\n",
       "      <th>17</th>\n",
       "      <td>Fanta</td>\n",
       "      <td>3.0</td>\n",
       "      <td>3.30</td>\n",
       "    </tr>\n",
       "  </tbody>\n",
       "</table>\n",
       "</div>"
      ],
      "text/plain": [
       "                           Nombre  Precio  Precio_Con_Incremento\n",
       "0                     Hamburguesa     2.6                   2.86\n",
       "1                         Patatas     2.0                   2.20\n",
       "2                          tomate     0.5                   0.55\n",
       "3                           Queso     1.0                   1.10\n",
       "4                         Lechuga     0.5                   0.55\n",
       "5                           Pollo     3.6                   3.96\n",
       "6                           Bacon     1.5                   1.65\n",
       "7                       Coca cola     3.0                   3.30\n",
       "8                          Nestea     3.0                   3.30\n",
       "9                   Menú de Pollo     5.0                   5.50\n",
       "10  Menú de Hamburguesa con queso     6.0                   6.60\n",
       "11        Menú de Pollo con queso     6.0                   6.60\n",
       "12            Menú de Hamburguesa     6.0                   6.60\n",
       "13                         Helado     1.0                   1.10\n",
       "14                          Tarta     2.0                   2.20\n",
       "15                          Fruta     1.0                   1.10\n",
       "16                           Agua     2.0                   2.20\n",
       "17                          Fanta     3.0                   3.30"
      ]
     },
     "execution_count": 38,
     "metadata": {},
     "output_type": "execute_result"
    }
   ],
   "source": [
    "connection = mysql.connector.connect(host='35.208.82.175', database='dbgsipp7ucsuwy', user='uqsnolewgvge8', password='upgradehub', connection_timeout=180000)\n",
    "cursor=connection.cursor()\n",
    "query30 = \"\"\" SELECT Nombre, Precio, Precio * 1.1 AS Precio_Con_Incremento\n",
    "FROM PRODUCTO; \"\"\"\n",
    "cursor.execute(query30)\n",
    "cursor.fetchall()\n",
    "df30 = pd.read_sql(query30, connection)\n",
    "df30.head(50)"
   ]
  },
  {
   "cell_type": "markdown",
   "metadata": {},
   "source": [
    "## 31. Obtener los pedidos cuyo importe es el mayor entre todos los pedidos."
   ]
  },
  {
   "cell_type": "code",
   "execution_count": 41,
   "metadata": {},
   "outputs": [
    {
     "name": "stderr",
     "output_type": "stream",
     "text": [
      "/var/folders/kz/j4h0c2x541b2lyb_xs14ztzw0000gn/T/ipykernel_9118/1775439957.py:9: UserWarning: pandas only supports SQLAlchemy connectable (engine/connection) or database string URI or sqlite3 DBAPI2 connection. Other DBAPI2 objects are not tested. Please consider using SQLAlchemy.\n",
      "  df31= pd.read_sql(query31, connection)\n"
     ]
    },
    {
     "data": {
      "text/html": [
       "<div>\n",
       "<style scoped>\n",
       "    .dataframe tbody tr th:only-of-type {\n",
       "        vertical-align: middle;\n",
       "    }\n",
       "\n",
       "    .dataframe tbody tr th {\n",
       "        vertical-align: top;\n",
       "    }\n",
       "\n",
       "    .dataframe thead th {\n",
       "        text-align: right;\n",
       "    }\n",
       "</style>\n",
       "<table border=\"1\" class=\"dataframe\">\n",
       "  <thead>\n",
       "    <tr style=\"text-align: right;\">\n",
       "      <th></th>\n",
       "      <th>Numero</th>\n",
       "      <th>Fecha</th>\n",
       "      <th>Importe</th>\n",
       "      <th>DNI_ETM</th>\n",
       "      <th>DNI_EP</th>\n",
       "      <th>DNI_R</th>\n",
       "      <th>Hora_tm</th>\n",
       "      <th>Hora_pre</th>\n",
       "      <th>Hora_rep</th>\n",
       "    </tr>\n",
       "  </thead>\n",
       "  <tbody>\n",
       "    <tr>\n",
       "      <th>0</th>\n",
       "      <td>0010</td>\n",
       "      <td>2020-11-05</td>\n",
       "      <td>45.0</td>\n",
       "      <td>88888888O</td>\n",
       "      <td>14567555L</td>\n",
       "      <td>None</td>\n",
       "      <td>0 days 22:05:00</td>\n",
       "      <td>0 days 22:12:00</td>\n",
       "      <td>None</td>\n",
       "    </tr>\n",
       "    <tr>\n",
       "      <th>1</th>\n",
       "      <td>0011</td>\n",
       "      <td>2020-11-05</td>\n",
       "      <td>45.0</td>\n",
       "      <td>88888888O</td>\n",
       "      <td>14567555L</td>\n",
       "      <td>None</td>\n",
       "      <td>0 days 22:05:00</td>\n",
       "      <td>NaT</td>\n",
       "      <td>None</td>\n",
       "    </tr>\n",
       "  </tbody>\n",
       "</table>\n",
       "</div>"
      ],
      "text/plain": [
       "  Numero       Fecha  Importe    DNI_ETM     DNI_EP DNI_R         Hora_tm  \\\n",
       "0   0010  2020-11-05     45.0  88888888O  14567555L  None 0 days 22:05:00   \n",
       "1   0011  2020-11-05     45.0  88888888O  14567555L  None 0 days 22:05:00   \n",
       "\n",
       "         Hora_pre Hora_rep  \n",
       "0 0 days 22:12:00     None  \n",
       "1             NaT     None  "
      ]
     },
     "execution_count": 41,
     "metadata": {},
     "output_type": "execute_result"
    }
   ],
   "source": [
    "connection = mysql.connector.connect(host='35.208.82.175', database='dbgsipp7ucsuwy', user='uqsnolewgvge8', password='upgradehub', connection_timeout=180000)\n",
    "cursor=connection.cursor()\n",
    "query31 = \"\"\" SELECT *\n",
    "FROM PEDIDO\n",
    "WHERE Importe=(SELECT MAX(Importe) FROM PEDIDO); \"\"\"\n",
    "cursor.execute(query31)\n",
    "cursor.fetchall()\n",
    "\n",
    "df31= pd.read_sql(query31, connection)\n",
    "df31"
   ]
  },
  {
   "cell_type": "markdown",
   "metadata": {},
   "source": [
    "## 32. Listar los empleados que no han tomado ningún pedido."
   ]
  },
  {
   "cell_type": "code",
   "execution_count": 43,
   "metadata": {},
   "outputs": [
    {
     "name": "stderr",
     "output_type": "stream",
     "text": [
      "/var/folders/kz/j4h0c2x541b2lyb_xs14ztzw0000gn/T/ipykernel_9118/891725473.py:9: UserWarning: pandas only supports SQLAlchemy connectable (engine/connection) or database string URI or sqlite3 DBAPI2 connection. Other DBAPI2 objects are not tested. Please consider using SQLAlchemy.\n",
      "  df32=pd.read_sql(query31, connection)\n"
     ]
    },
    {
     "data": {
      "text/html": [
       "<div>\n",
       "<style scoped>\n",
       "    .dataframe tbody tr th:only-of-type {\n",
       "        vertical-align: middle;\n",
       "    }\n",
       "\n",
       "    .dataframe tbody tr th {\n",
       "        vertical-align: top;\n",
       "    }\n",
       "\n",
       "    .dataframe thead th {\n",
       "        text-align: right;\n",
       "    }\n",
       "</style>\n",
       "<table border=\"1\" class=\"dataframe\">\n",
       "  <thead>\n",
       "    <tr style=\"text-align: right;\">\n",
       "      <th></th>\n",
       "      <th>Numero</th>\n",
       "      <th>Fecha</th>\n",
       "      <th>Importe</th>\n",
       "      <th>DNI_ETM</th>\n",
       "      <th>DNI_EP</th>\n",
       "      <th>DNI_R</th>\n",
       "      <th>Hora_tm</th>\n",
       "      <th>Hora_pre</th>\n",
       "      <th>Hora_rep</th>\n",
       "    </tr>\n",
       "  </thead>\n",
       "  <tbody>\n",
       "    <tr>\n",
       "      <th>0</th>\n",
       "      <td>0010</td>\n",
       "      <td>2020-11-05</td>\n",
       "      <td>45.0</td>\n",
       "      <td>88888888O</td>\n",
       "      <td>14567555L</td>\n",
       "      <td>None</td>\n",
       "      <td>0 days 22:05:00</td>\n",
       "      <td>0 days 22:12:00</td>\n",
       "      <td>None</td>\n",
       "    </tr>\n",
       "    <tr>\n",
       "      <th>1</th>\n",
       "      <td>0011</td>\n",
       "      <td>2020-11-05</td>\n",
       "      <td>45.0</td>\n",
       "      <td>88888888O</td>\n",
       "      <td>14567555L</td>\n",
       "      <td>None</td>\n",
       "      <td>0 days 22:05:00</td>\n",
       "      <td>NaT</td>\n",
       "      <td>None</td>\n",
       "    </tr>\n",
       "  </tbody>\n",
       "</table>\n",
       "</div>"
      ],
      "text/plain": [
       "  Numero       Fecha  Importe    DNI_ETM     DNI_EP DNI_R         Hora_tm  \\\n",
       "0   0010  2020-11-05     45.0  88888888O  14567555L  None 0 days 22:05:00   \n",
       "1   0011  2020-11-05     45.0  88888888O  14567555L  None 0 days 22:05:00   \n",
       "\n",
       "         Hora_pre Hora_rep  \n",
       "0 0 days 22:12:00     None  \n",
       "1             NaT     None  "
      ]
     },
     "execution_count": 43,
     "metadata": {},
     "output_type": "execute_result"
    }
   ],
   "source": [
    "connection = mysql.connector.connect(host='35.208.82.175', database='dbgsipp7ucsuwy', user='uqsnolewgvge8', password='upgradehub', connection_timeout=180000)\n",
    "cursor=connection.cursor()\n",
    "query32 = \"\"\" SELECT E.*, P.DNI_ETM\n",
    "FROM EMPLEADO E\n",
    "LEFT JOIN PEDIDO P ON E.DNI = P.DNI_ETM\n",
    "WHERE P.DNI_ETM IS NULL; \"\"\"\n",
    "cursor.execute(query32)\n",
    "cursor.fetchall()\n",
    "df32=pd.read_sql(query31, connection)\n",
    "df32"
   ]
  },
  {
   "cell_type": "markdown",
   "metadata": {},
   "source": [
    "## 33. Mostrar el nombre del repartidor y la fecha del pedido para los pedidos entregados en el turno de noche."
   ]
  },
  {
   "cell_type": "code",
   "execution_count": 46,
   "metadata": {},
   "outputs": [
    {
     "name": "stderr",
     "output_type": "stream",
     "text": [
      "/var/folders/kz/j4h0c2x541b2lyb_xs14ztzw0000gn/T/ipykernel_9118/975784243.py:10: UserWarning: pandas only supports SQLAlchemy connectable (engine/connection) or database string URI or sqlite3 DBAPI2 connection. Other DBAPI2 objects are not tested. Please consider using SQLAlchemy.\n",
      "  df33=pd.read_sql(query31, connection)\n"
     ]
    },
    {
     "data": {
      "text/html": [
       "<div>\n",
       "<style scoped>\n",
       "    .dataframe tbody tr th:only-of-type {\n",
       "        vertical-align: middle;\n",
       "    }\n",
       "\n",
       "    .dataframe tbody tr th {\n",
       "        vertical-align: top;\n",
       "    }\n",
       "\n",
       "    .dataframe thead th {\n",
       "        text-align: right;\n",
       "    }\n",
       "</style>\n",
       "<table border=\"1\" class=\"dataframe\">\n",
       "  <thead>\n",
       "    <tr style=\"text-align: right;\">\n",
       "      <th></th>\n",
       "      <th>Numero</th>\n",
       "      <th>Fecha</th>\n",
       "      <th>Importe</th>\n",
       "      <th>DNI_ETM</th>\n",
       "      <th>DNI_EP</th>\n",
       "      <th>DNI_R</th>\n",
       "      <th>Hora_tm</th>\n",
       "      <th>Hora_pre</th>\n",
       "      <th>Hora_rep</th>\n",
       "    </tr>\n",
       "  </thead>\n",
       "  <tbody>\n",
       "    <tr>\n",
       "      <th>0</th>\n",
       "      <td>0010</td>\n",
       "      <td>2020-11-05</td>\n",
       "      <td>45.0</td>\n",
       "      <td>88888888O</td>\n",
       "      <td>14567555L</td>\n",
       "      <td>None</td>\n",
       "      <td>0 days 22:05:00</td>\n",
       "      <td>0 days 22:12:00</td>\n",
       "      <td>None</td>\n",
       "    </tr>\n",
       "    <tr>\n",
       "      <th>1</th>\n",
       "      <td>0011</td>\n",
       "      <td>2020-11-05</td>\n",
       "      <td>45.0</td>\n",
       "      <td>88888888O</td>\n",
       "      <td>14567555L</td>\n",
       "      <td>None</td>\n",
       "      <td>0 days 22:05:00</td>\n",
       "      <td>NaT</td>\n",
       "      <td>None</td>\n",
       "    </tr>\n",
       "  </tbody>\n",
       "</table>\n",
       "</div>"
      ],
      "text/plain": [
       "  Numero       Fecha  Importe    DNI_ETM     DNI_EP DNI_R         Hora_tm  \\\n",
       "0   0010  2020-11-05     45.0  88888888O  14567555L  None 0 days 22:05:00   \n",
       "1   0011  2020-11-05     45.0  88888888O  14567555L  None 0 days 22:05:00   \n",
       "\n",
       "         Hora_pre Hora_rep  \n",
       "0 0 days 22:12:00     None  \n",
       "1             NaT     None  "
      ]
     },
     "execution_count": 46,
     "metadata": {},
     "output_type": "execute_result"
    }
   ],
   "source": [
    "connection = mysql.connector.connect(host='35.208.82.175', database='dbgsipp7ucsuwy', user='uqsnolewgvge8', password='upgradehub', connection_timeout=180000)\n",
    "cursor=connection.cursor()\n",
    "query33 = \"\"\"SELECT R.Nombre AS Nombre_Repartidor, P.Fecha\n",
    "FROM REPARTIDOR R\n",
    "JOIN PEDIDO P ON R.DNI = P.DNI_R\n",
    "WHERE R.Turno = 'noche';\"\"\"\n",
    "cursor.execute(query33)\n",
    "cursor.fetchall()\n",
    "\n",
    "df33=pd.read_sql(query33, connection)\n",
    "df33"
   ]
  },
  {
   "cell_type": "markdown",
   "metadata": {},
   "source": [
    "## 34. Obtener el nombre del producto más caro y su precio."
   ]
  },
  {
   "cell_type": "code",
   "execution_count": 49,
   "metadata": {},
   "outputs": [
    {
     "name": "stderr",
     "output_type": "stream",
     "text": [
      "/var/folders/kz/j4h0c2x541b2lyb_xs14ztzw0000gn/T/ipykernel_9118/3033802089.py:7: UserWarning: pandas only supports SQLAlchemy connectable (engine/connection) or database string URI or sqlite3 DBAPI2 connection. Other DBAPI2 objects are not tested. Please consider using SQLAlchemy.\n",
      "  df34=pd.read_sql(query34, connection)\n"
     ]
    },
    {
     "data": {
      "text/html": [
       "<div>\n",
       "<style scoped>\n",
       "    .dataframe tbody tr th:only-of-type {\n",
       "        vertical-align: middle;\n",
       "    }\n",
       "\n",
       "    .dataframe tbody tr th {\n",
       "        vertical-align: top;\n",
       "    }\n",
       "\n",
       "    .dataframe thead th {\n",
       "        text-align: right;\n",
       "    }\n",
       "</style>\n",
       "<table border=\"1\" class=\"dataframe\">\n",
       "  <thead>\n",
       "    <tr style=\"text-align: right;\">\n",
       "      <th></th>\n",
       "      <th>Nombre</th>\n",
       "      <th>Precio_mas_caro</th>\n",
       "    </tr>\n",
       "  </thead>\n",
       "  <tbody>\n",
       "    <tr>\n",
       "      <th>0</th>\n",
       "      <td>Menú de Hamburguesa con queso</td>\n",
       "      <td>6.0</td>\n",
       "    </tr>\n",
       "    <tr>\n",
       "      <th>1</th>\n",
       "      <td>Menú de Pollo con queso</td>\n",
       "      <td>6.0</td>\n",
       "    </tr>\n",
       "    <tr>\n",
       "      <th>2</th>\n",
       "      <td>Menú de Hamburguesa</td>\n",
       "      <td>6.0</td>\n",
       "    </tr>\n",
       "  </tbody>\n",
       "</table>\n",
       "</div>"
      ],
      "text/plain": [
       "                          Nombre  Precio_mas_caro\n",
       "0  Menú de Hamburguesa con queso              6.0\n",
       "1        Menú de Pollo con queso              6.0\n",
       "2            Menú de Hamburguesa              6.0"
      ]
     },
     "execution_count": 49,
     "metadata": {},
     "output_type": "execute_result"
    }
   ],
   "source": [
    "connection = mysql.connector.connect(host='35.208.82.175', database='dbgsipp7ucsuwy', user='uqsnolewgvge8', password='upgradehub', connection_timeout=180000)\n",
    "cursor=connection.cursor()\n",
    "query34 = \"\"\" SELECT Nombre, Precio AS Precio_mas_caro FROM PRODUCTO\n",
    "WHERE Precio=(SELECT MAX(Precio) FROM PRODUCTO); \"\"\"\n",
    "cursor.execute(query34)\n",
    "cursor.fetchall()\n",
    "df34=pd.read_sql(query34, connection)\n",
    "df34"
   ]
  },
  {
   "cell_type": "markdown",
   "metadata": {},
   "source": [
    "## 35. Mostrar el nombre del empleado y el importe total de los pedidos que ha tomado."
   ]
  },
  {
   "cell_type": "code",
   "execution_count": 51,
   "metadata": {},
   "outputs": [
    {
     "name": "stderr",
     "output_type": "stream",
     "text": [
      "/var/folders/kz/j4h0c2x541b2lyb_xs14ztzw0000gn/T/ipykernel_9118/2669093100.py:9: UserWarning: pandas only supports SQLAlchemy connectable (engine/connection) or database string URI or sqlite3 DBAPI2 connection. Other DBAPI2 objects are not tested. Please consider using SQLAlchemy.\n",
      "  df35= pd.read_sql(query35, connection)\n"
     ]
    },
    {
     "data": {
      "text/html": [
       "<div>\n",
       "<style scoped>\n",
       "    .dataframe tbody tr th:only-of-type {\n",
       "        vertical-align: middle;\n",
       "    }\n",
       "\n",
       "    .dataframe tbody tr th {\n",
       "        vertical-align: top;\n",
       "    }\n",
       "\n",
       "    .dataframe thead th {\n",
       "        text-align: right;\n",
       "    }\n",
       "</style>\n",
       "<table border=\"1\" class=\"dataframe\">\n",
       "  <thead>\n",
       "    <tr style=\"text-align: right;\">\n",
       "      <th></th>\n",
       "      <th>Nombre_Empleado</th>\n",
       "      <th>Total_Importe_Pedidos</th>\n",
       "    </tr>\n",
       "  </thead>\n",
       "  <tbody>\n",
       "    <tr>\n",
       "      <th>0</th>\n",
       "      <td>Luis Ramírez Pardo</td>\n",
       "      <td>10.0</td>\n",
       "    </tr>\n",
       "    <tr>\n",
       "      <th>1</th>\n",
       "      <td>María Sánchez Cid</td>\n",
       "      <td>15.0</td>\n",
       "    </tr>\n",
       "    <tr>\n",
       "      <th>2</th>\n",
       "      <td>Pedro Jiménez Ruiz</td>\n",
       "      <td>13.0</td>\n",
       "    </tr>\n",
       "    <tr>\n",
       "      <th>3</th>\n",
       "      <td>Raúl Rodrigo Roca</td>\n",
       "      <td>27.0</td>\n",
       "    </tr>\n",
       "    <tr>\n",
       "      <th>4</th>\n",
       "      <td>Piedad Colmenero Zapillo</td>\n",
       "      <td>37.0</td>\n",
       "    </tr>\n",
       "    <tr>\n",
       "      <th>5</th>\n",
       "      <td>María Luisa Galdón Ter</td>\n",
       "      <td>17.0</td>\n",
       "    </tr>\n",
       "    <tr>\n",
       "      <th>6</th>\n",
       "      <td>Úrsula Delta Camacho</td>\n",
       "      <td>25.0</td>\n",
       "    </tr>\n",
       "    <tr>\n",
       "      <th>7</th>\n",
       "      <td>Soledad Campillo Molina</td>\n",
       "      <td>90.0</td>\n",
       "    </tr>\n",
       "  </tbody>\n",
       "</table>\n",
       "</div>"
      ],
      "text/plain": [
       "            Nombre_Empleado  Total_Importe_Pedidos\n",
       "0        Luis Ramírez Pardo                   10.0\n",
       "1         María Sánchez Cid                   15.0\n",
       "2        Pedro Jiménez Ruiz                   13.0\n",
       "3         Raúl Rodrigo Roca                   27.0\n",
       "4  Piedad Colmenero Zapillo                   37.0\n",
       "5    María Luisa Galdón Ter                   17.0\n",
       "6      Úrsula Delta Camacho                   25.0\n",
       "7   Soledad Campillo Molina                   90.0"
      ]
     },
     "execution_count": 51,
     "metadata": {},
     "output_type": "execute_result"
    }
   ],
   "source": [
    "connection = mysql.connector.connect(host='35.208.82.175', database='dbgsipp7ucsuwy', user='uqsnolewgvge8', password='upgradehub', connection_timeout=180000)\n",
    "cursor=connection.cursor()\n",
    "query35 = \"\"\" SELECT E.Nombre AS Nombre_Empleado, SUM(P.Importe) AS Total_Importe_Pedidos\n",
    "FROM EMPLEADO E\n",
    "JOIN PEDIDO P ON E.DNI = P.DNI_ETM\n",
    "GROUP BY E.Nombre; \"\"\"\n",
    "cursor.execute(query35)\n",
    "cursor.fetchall()\n",
    "df35= pd.read_sql(query35, connection)\n",
    "df35"
   ]
  },
  {
   "cell_type": "code",
   "execution_count": 59,
   "metadata": {},
   "outputs": [
    {
     "ename": "SyntaxError",
     "evalue": "invalid syntax (4001170961.py, line 1)",
     "output_type": "error",
     "traceback": [
      "\u001b[0;36m  Cell \u001b[0;32mIn[59], line 1\u001b[0;36m\u001b[0m\n\u001b[0;31m    DB_HOST=35.208.82.175\u001b[0m\n\u001b[0m                  ^\u001b[0m\n\u001b[0;31mSyntaxError\u001b[0m\u001b[0;31m:\u001b[0m invalid syntax\n"
     ]
    }
   ],
   "source": [
    "DB_HOST=35.208.82.175\n",
    "DB_NAME=dbgsipp7ucsuwy\n",
    "DB_USER=uqsnolewgvge8\n",
    "DB_PASSWORD=upgradehub"
   ]
  }
 ],
 "metadata": {
  "kernelspec": {
   "display_name": "Python 3",
   "language": "python",
   "name": "python3"
  },
  "language_info": {
   "codemirror_mode": {
    "name": "ipython",
    "version": 3
   },
   "file_extension": ".py",
   "mimetype": "text/x-python",
   "name": "python",
   "nbconvert_exporter": "python",
   "pygments_lexer": "ipython3",
   "version": "3.11.9"
  }
 },
 "nbformat": 4,
 "nbformat_minor": 2
}
